{
  "cells": [
    {
      "cell_type": "markdown",
      "metadata": {
        "id": "view-in-github",
        "colab_type": "text"
      },
      "source": [
        "<a href=\"https://colab.research.google.com/github/naimisha56/sentimental-Analysis/blob/main/MajorProj_(8).ipynb\" target=\"_parent\"><img src=\"https://colab.research.google.com/assets/colab-badge.svg\" alt=\"Open In Colab\"/></a>"
      ]
    },
    {
      "cell_type": "markdown",
      "id": "5df0effd",
      "metadata": {
        "id": "5df0effd"
      },
      "source": [
        "# SENTIMENT ANALYSIS BASED ON COVID-19 TWEETS"
      ]
    },
    {
      "cell_type": "markdown",
      "id": "12bb40b6",
      "metadata": {
        "id": "12bb40b6"
      },
      "source": [
        "### Problem statement:\n",
        "Create a classification model to predict the sentiment either (Positive or Negative) based on Covid Tweets\n",
        "\n",
        "### Context:\n",
        "The tweets have been pulled from Twitter and manual tagging has been done.The names and usernames have been given codes to avoid any privacy concerns.\n"
      ]
    },
    {
      "cell_type": "markdown",
      "id": "4e91b494",
      "metadata": {
        "id": "4e91b494"
      },
      "source": [
        "![Twitter-Sentiment-Analysis.jpg](attachment:Twitter-Sentiment-Analysis.jpg)"
      ]
    },
    {
      "cell_type": "markdown",
      "id": "f1f6fed4",
      "metadata": {
        "id": "f1f6fed4"
      },
      "source": [
        "![SAproj.png](attachment:SAproj.png)"
      ]
    },
    {
      "cell_type": "markdown",
      "id": "d13ccfa0",
      "metadata": {
        "id": "d13ccfa0"
      },
      "source": []
    },
    {
      "cell_type": "code",
      "execution_count": null,
      "id": "a793f116",
      "metadata": {
        "id": "a793f116"
      },
      "outputs": [],
      "source": [
        "%matplotlib inline\n",
        "import numpy as np\n",
        "import pandas as pd\n",
        "import matplotlib.pyplot as plt\n",
        "import seaborn as sns\n"
      ]
    },
    {
      "cell_type": "code",
      "execution_count": null,
      "id": "cc787e99",
      "metadata": {
        "scrolled": false,
        "id": "cc787e99",
        "outputId": "eb39406c-5f53-4c1e-9bfd-42aa18734648"
      },
      "outputs": [
        {
          "data": {
            "text/html": [
              "<div>\n",
              "<style scoped>\n",
              "    .dataframe tbody tr th:only-of-type {\n",
              "        vertical-align: middle;\n",
              "    }\n",
              "\n",
              "    .dataframe tbody tr th {\n",
              "        vertical-align: top;\n",
              "    }\n",
              "\n",
              "    .dataframe thead th {\n",
              "        text-align: right;\n",
              "    }\n",
              "</style>\n",
              "<table border=\"1\" class=\"dataframe\">\n",
              "  <thead>\n",
              "    <tr style=\"text-align: right;\">\n",
              "      <th></th>\n",
              "      <th>UserName</th>\n",
              "      <th>ScreenName</th>\n",
              "      <th>Location</th>\n",
              "      <th>TweetAt</th>\n",
              "      <th>OriginalTweet</th>\n",
              "      <th>Sentiment</th>\n",
              "    </tr>\n",
              "  </thead>\n",
              "  <tbody>\n",
              "    <tr>\n",
              "      <th>0</th>\n",
              "      <td>3799</td>\n",
              "      <td>48751</td>\n",
              "      <td>London</td>\n",
              "      <td>16-03-2020</td>\n",
              "      <td>@MeNyrbie @Phil_Gahan @Chrisitv https://t.co/i...</td>\n",
              "      <td>Neutral</td>\n",
              "    </tr>\n",
              "    <tr>\n",
              "      <th>1</th>\n",
              "      <td>3800</td>\n",
              "      <td>48752</td>\n",
              "      <td>UK</td>\n",
              "      <td>16-03-2020</td>\n",
              "      <td>advice Talk to your neighbours family to excha...</td>\n",
              "      <td>Positive</td>\n",
              "    </tr>\n",
              "    <tr>\n",
              "      <th>2</th>\n",
              "      <td>3801</td>\n",
              "      <td>48753</td>\n",
              "      <td>Vagabonds</td>\n",
              "      <td>16-03-2020</td>\n",
              "      <td>Coronavirus Australia: Woolworths to give elde...</td>\n",
              "      <td>Positive</td>\n",
              "    </tr>\n",
              "    <tr>\n",
              "      <th>3</th>\n",
              "      <td>3802</td>\n",
              "      <td>48754</td>\n",
              "      <td>NaN</td>\n",
              "      <td>16-03-2020</td>\n",
              "      <td>My food stock is not the only one which is emp...</td>\n",
              "      <td>Positive</td>\n",
              "    </tr>\n",
              "    <tr>\n",
              "      <th>4</th>\n",
              "      <td>3803</td>\n",
              "      <td>48755</td>\n",
              "      <td>NaN</td>\n",
              "      <td>16-03-2020</td>\n",
              "      <td>Me, ready to go at supermarket during the #COV...</td>\n",
              "      <td>Extremely Negative</td>\n",
              "    </tr>\n",
              "    <tr>\n",
              "      <th>...</th>\n",
              "      <td>...</td>\n",
              "      <td>...</td>\n",
              "      <td>...</td>\n",
              "      <td>...</td>\n",
              "      <td>...</td>\n",
              "      <td>...</td>\n",
              "    </tr>\n",
              "    <tr>\n",
              "      <th>41152</th>\n",
              "      <td>44951</td>\n",
              "      <td>89903</td>\n",
              "      <td>Wellington City, New Zealand</td>\n",
              "      <td>14-04-2020</td>\n",
              "      <td>Airline pilots offering to stock supermarket s...</td>\n",
              "      <td>Neutral</td>\n",
              "    </tr>\n",
              "    <tr>\n",
              "      <th>41153</th>\n",
              "      <td>44952</td>\n",
              "      <td>89904</td>\n",
              "      <td>NaN</td>\n",
              "      <td>14-04-2020</td>\n",
              "      <td>Response to complaint not provided citing COVI...</td>\n",
              "      <td>Extremely Negative</td>\n",
              "    </tr>\n",
              "    <tr>\n",
              "      <th>41154</th>\n",
              "      <td>44953</td>\n",
              "      <td>89905</td>\n",
              "      <td>NaN</td>\n",
              "      <td>14-04-2020</td>\n",
              "      <td>You know itÂs getting tough when @KameronWild...</td>\n",
              "      <td>Positive</td>\n",
              "    </tr>\n",
              "    <tr>\n",
              "      <th>41155</th>\n",
              "      <td>44954</td>\n",
              "      <td>89906</td>\n",
              "      <td>NaN</td>\n",
              "      <td>14-04-2020</td>\n",
              "      <td>Is it wrong that the smell of hand sanitizer i...</td>\n",
              "      <td>Neutral</td>\n",
              "    </tr>\n",
              "    <tr>\n",
              "      <th>41156</th>\n",
              "      <td>44955</td>\n",
              "      <td>89907</td>\n",
              "      <td>i love you so much || he/him</td>\n",
              "      <td>14-04-2020</td>\n",
              "      <td>@TartiiCat Well new/used Rift S are going for ...</td>\n",
              "      <td>Negative</td>\n",
              "    </tr>\n",
              "  </tbody>\n",
              "</table>\n",
              "<p>41157 rows × 6 columns</p>\n",
              "</div>"
            ],
            "text/plain": [
              "       UserName  ScreenName                      Location     TweetAt  \\\n",
              "0          3799       48751                        London  16-03-2020   \n",
              "1          3800       48752                            UK  16-03-2020   \n",
              "2          3801       48753                     Vagabonds  16-03-2020   \n",
              "3          3802       48754                           NaN  16-03-2020   \n",
              "4          3803       48755                           NaN  16-03-2020   \n",
              "...         ...         ...                           ...         ...   \n",
              "41152     44951       89903  Wellington City, New Zealand  14-04-2020   \n",
              "41153     44952       89904                           NaN  14-04-2020   \n",
              "41154     44953       89905                           NaN  14-04-2020   \n",
              "41155     44954       89906                           NaN  14-04-2020   \n",
              "41156     44955       89907  i love you so much || he/him  14-04-2020   \n",
              "\n",
              "                                           OriginalTweet           Sentiment  \n",
              "0      @MeNyrbie @Phil_Gahan @Chrisitv https://t.co/i...             Neutral  \n",
              "1      advice Talk to your neighbours family to excha...            Positive  \n",
              "2      Coronavirus Australia: Woolworths to give elde...            Positive  \n",
              "3      My food stock is not the only one which is emp...            Positive  \n",
              "4      Me, ready to go at supermarket during the #COV...  Extremely Negative  \n",
              "...                                                  ...                 ...  \n",
              "41152  Airline pilots offering to stock supermarket s...             Neutral  \n",
              "41153  Response to complaint not provided citing COVI...  Extremely Negative  \n",
              "41154  You know itÂs getting tough when @KameronWild...            Positive  \n",
              "41155  Is it wrong that the smell of hand sanitizer i...             Neutral  \n",
              "41156  @TartiiCat Well new/used Rift S are going for ...            Negative  \n",
              "\n",
              "[41157 rows x 6 columns]"
            ]
          },
          "execution_count": 2,
          "metadata": {},
          "output_type": "execute_result"
        }
      ],
      "source": [
        "df = pd.read_csv('Corona_NLP.csv',encoding = 'latin1')\n",
        "df"
      ]
    },
    {
      "cell_type": "code",
      "execution_count": null,
      "id": "c4e60b2a",
      "metadata": {
        "id": "c4e60b2a",
        "outputId": "69663d0c-5731-4abf-d7d8-302b3d1578fe"
      },
      "outputs": [
        {
          "data": {
            "text/html": [
              "<div>\n",
              "<style scoped>\n",
              "    .dataframe tbody tr th:only-of-type {\n",
              "        vertical-align: middle;\n",
              "    }\n",
              "\n",
              "    .dataframe tbody tr th {\n",
              "        vertical-align: top;\n",
              "    }\n",
              "\n",
              "    .dataframe thead th {\n",
              "        text-align: right;\n",
              "    }\n",
              "</style>\n",
              "<table border=\"1\" class=\"dataframe\">\n",
              "  <thead>\n",
              "    <tr style=\"text-align: right;\">\n",
              "      <th></th>\n",
              "      <th>UserName</th>\n",
              "      <th>ScreenName</th>\n",
              "      <th>Location</th>\n",
              "      <th>TweetAt</th>\n",
              "      <th>OriginalTweet</th>\n",
              "      <th>Sentiment</th>\n",
              "    </tr>\n",
              "  </thead>\n",
              "  <tbody>\n",
              "    <tr>\n",
              "      <th>0</th>\n",
              "      <td>3799</td>\n",
              "      <td>48751</td>\n",
              "      <td>London</td>\n",
              "      <td>16-03-2020</td>\n",
              "      <td>@MeNyrbie @Phil_Gahan @Chrisitv https://t.co/i...</td>\n",
              "      <td>Neutral</td>\n",
              "    </tr>\n",
              "    <tr>\n",
              "      <th>1</th>\n",
              "      <td>3800</td>\n",
              "      <td>48752</td>\n",
              "      <td>UK</td>\n",
              "      <td>16-03-2020</td>\n",
              "      <td>advice Talk to your neighbours family to excha...</td>\n",
              "      <td>Positive</td>\n",
              "    </tr>\n",
              "    <tr>\n",
              "      <th>2</th>\n",
              "      <td>3801</td>\n",
              "      <td>48753</td>\n",
              "      <td>Vagabonds</td>\n",
              "      <td>16-03-2020</td>\n",
              "      <td>Coronavirus Australia: Woolworths to give elde...</td>\n",
              "      <td>Positive</td>\n",
              "    </tr>\n",
              "    <tr>\n",
              "      <th>3</th>\n",
              "      <td>3802</td>\n",
              "      <td>48754</td>\n",
              "      <td>NaN</td>\n",
              "      <td>16-03-2020</td>\n",
              "      <td>My food stock is not the only one which is emp...</td>\n",
              "      <td>Positive</td>\n",
              "    </tr>\n",
              "    <tr>\n",
              "      <th>4</th>\n",
              "      <td>3803</td>\n",
              "      <td>48755</td>\n",
              "      <td>NaN</td>\n",
              "      <td>16-03-2020</td>\n",
              "      <td>Me, ready to go at supermarket during the #COV...</td>\n",
              "      <td>Extremely Negative</td>\n",
              "    </tr>\n",
              "  </tbody>\n",
              "</table>\n",
              "</div>"
            ],
            "text/plain": [
              "   UserName  ScreenName   Location     TweetAt  \\\n",
              "0      3799       48751     London  16-03-2020   \n",
              "1      3800       48752         UK  16-03-2020   \n",
              "2      3801       48753  Vagabonds  16-03-2020   \n",
              "3      3802       48754        NaN  16-03-2020   \n",
              "4      3803       48755        NaN  16-03-2020   \n",
              "\n",
              "                                       OriginalTweet           Sentiment  \n",
              "0  @MeNyrbie @Phil_Gahan @Chrisitv https://t.co/i...             Neutral  \n",
              "1  advice Talk to your neighbours family to excha...            Positive  \n",
              "2  Coronavirus Australia: Woolworths to give elde...            Positive  \n",
              "3  My food stock is not the only one which is emp...            Positive  \n",
              "4  Me, ready to go at supermarket during the #COV...  Extremely Negative  "
            ]
          },
          "execution_count": 3,
          "metadata": {},
          "output_type": "execute_result"
        }
      ],
      "source": [
        "df.head()"
      ]
    },
    {
      "cell_type": "code",
      "execution_count": null,
      "id": "d88891b2",
      "metadata": {
        "id": "d88891b2",
        "outputId": "f2a3d99a-8dca-4d84-ec7f-2769bbad8206"
      },
      "outputs": [
        {
          "name": "stdout",
          "output_type": "stream",
          "text": [
            "<class 'pandas.core.frame.DataFrame'>\n",
            "RangeIndex: 41157 entries, 0 to 41156\n",
            "Data columns (total 6 columns):\n",
            " #   Column         Non-Null Count  Dtype \n",
            "---  ------         --------------  ----- \n",
            " 0   UserName       41157 non-null  int64 \n",
            " 1   ScreenName     41157 non-null  int64 \n",
            " 2   Location       32567 non-null  object\n",
            " 3   TweetAt        41157 non-null  object\n",
            " 4   OriginalTweet  41157 non-null  object\n",
            " 5   Sentiment      41157 non-null  object\n",
            "dtypes: int64(2), object(4)\n",
            "memory usage: 1.9+ MB\n"
          ]
        }
      ],
      "source": [
        "df.info()"
      ]
    },
    {
      "cell_type": "code",
      "execution_count": null,
      "id": "b63ba38f",
      "metadata": {
        "id": "b63ba38f",
        "outputId": "911565ad-75e2-4254-b1f4-fece9c0efdae"
      },
      "outputs": [
        {
          "data": {
            "text/html": [
              "<div>\n",
              "<style scoped>\n",
              "    .dataframe tbody tr th:only-of-type {\n",
              "        vertical-align: middle;\n",
              "    }\n",
              "\n",
              "    .dataframe tbody tr th {\n",
              "        vertical-align: top;\n",
              "    }\n",
              "\n",
              "    .dataframe thead th {\n",
              "        text-align: right;\n",
              "    }\n",
              "</style>\n",
              "<table border=\"1\" class=\"dataframe\">\n",
              "  <thead>\n",
              "    <tr style=\"text-align: right;\">\n",
              "      <th></th>\n",
              "      <th>UserName</th>\n",
              "      <th>ScreenName</th>\n",
              "    </tr>\n",
              "  </thead>\n",
              "  <tbody>\n",
              "    <tr>\n",
              "      <th>count</th>\n",
              "      <td>41157.000000</td>\n",
              "      <td>41157.000000</td>\n",
              "    </tr>\n",
              "    <tr>\n",
              "      <th>mean</th>\n",
              "      <td>24377.000000</td>\n",
              "      <td>69329.000000</td>\n",
              "    </tr>\n",
              "    <tr>\n",
              "      <th>std</th>\n",
              "      <td>11881.146851</td>\n",
              "      <td>11881.146851</td>\n",
              "    </tr>\n",
              "    <tr>\n",
              "      <th>min</th>\n",
              "      <td>3799.000000</td>\n",
              "      <td>48751.000000</td>\n",
              "    </tr>\n",
              "    <tr>\n",
              "      <th>25%</th>\n",
              "      <td>14088.000000</td>\n",
              "      <td>59040.000000</td>\n",
              "    </tr>\n",
              "    <tr>\n",
              "      <th>50%</th>\n",
              "      <td>24377.000000</td>\n",
              "      <td>69329.000000</td>\n",
              "    </tr>\n",
              "    <tr>\n",
              "      <th>75%</th>\n",
              "      <td>34666.000000</td>\n",
              "      <td>79618.000000</td>\n",
              "    </tr>\n",
              "    <tr>\n",
              "      <th>max</th>\n",
              "      <td>44955.000000</td>\n",
              "      <td>89907.000000</td>\n",
              "    </tr>\n",
              "  </tbody>\n",
              "</table>\n",
              "</div>"
            ],
            "text/plain": [
              "           UserName    ScreenName\n",
              "count  41157.000000  41157.000000\n",
              "mean   24377.000000  69329.000000\n",
              "std    11881.146851  11881.146851\n",
              "min     3799.000000  48751.000000\n",
              "25%    14088.000000  59040.000000\n",
              "50%    24377.000000  69329.000000\n",
              "75%    34666.000000  79618.000000\n",
              "max    44955.000000  89907.000000"
            ]
          },
          "execution_count": 5,
          "metadata": {},
          "output_type": "execute_result"
        }
      ],
      "source": [
        "df.describe()"
      ]
    },
    {
      "cell_type": "code",
      "execution_count": null,
      "id": "8b1440a3",
      "metadata": {
        "id": "8b1440a3",
        "outputId": "c9950447-aef5-46af-c2f9-aacacfdae189"
      },
      "outputs": [
        {
          "data": {
            "text/plain": [
              "(41157, 6)"
            ]
          },
          "execution_count": 6,
          "metadata": {},
          "output_type": "execute_result"
        }
      ],
      "source": [
        "df.shape # rows - 41157  columns - 6"
      ]
    },
    {
      "cell_type": "code",
      "execution_count": null,
      "id": "d5873715",
      "metadata": {
        "id": "d5873715",
        "outputId": "d39150a7-39be-4fab-e473-b886fc0e6b8b"
      },
      "outputs": [
        {
          "data": {
            "text/plain": [
              "0"
            ]
          },
          "execution_count": 7,
          "metadata": {},
          "output_type": "execute_result"
        }
      ],
      "source": [
        "df.duplicated().sum()"
      ]
    },
    {
      "cell_type": "code",
      "execution_count": null,
      "id": "e99141f8",
      "metadata": {
        "id": "e99141f8",
        "outputId": "93b36907-12b1-4d7b-db76-eb50cec23273"
      },
      "outputs": [
        {
          "data": {
            "text/plain": [
              "20-03-2020    3448\n",
              "19-03-2020    3215\n",
              "25-03-2020    2979\n",
              "18-03-2020    2742\n",
              "21-03-2020    2653\n",
              "22-03-2020    2114\n",
              "23-03-2020    2062\n",
              "17-03-2020    1977\n",
              "08-04-2020    1881\n",
              "07-04-2020    1843\n",
              "06-04-2020    1742\n",
              "24-03-2020    1480\n",
              "09-04-2020    1471\n",
              "13-04-2020    1428\n",
              "26-03-2020    1277\n",
              "05-04-2020    1131\n",
              "10-04-2020    1005\n",
              "02-04-2020     954\n",
              "11-04-2020     909\n",
              "03-04-2020     810\n",
              "12-04-2020     803\n",
              "04-04-2020     767\n",
              "16-03-2020     656\n",
              "01-04-2020     630\n",
              "27-03-2020     345\n",
              "31-03-2020     316\n",
              "14-04-2020     284\n",
              "29-03-2020     125\n",
              "30-03-2020      87\n",
              "28-03-2020      23\n",
              "Name: TweetAt, dtype: int64"
            ]
          },
          "execution_count": 8,
          "metadata": {},
          "output_type": "execute_result"
        }
      ],
      "source": [
        "# All the tweets have been made in the month of March and April of the year 2020\n",
        "df.TweetAt.value_counts()"
      ]
    },
    {
      "cell_type": "code",
      "execution_count": null,
      "id": "a3826a4b",
      "metadata": {
        "id": "a3826a4b",
        "outputId": "0f983e01-1aea-418c-d3ca-fdfc5ef46f4e"
      },
      "outputs": [
        {
          "data": {
            "text/plain": [
              "London                          540\n",
              "United States                   528\n",
              "London, England                 520\n",
              "New York, NY                    395\n",
              "Washington, DC                  373\n",
              "                               ... \n",
              "Staffordshire Moorlands           1\n",
              "Kithchener ON                     1\n",
              "Tulsa, Ok                         1\n",
              "Watford, South Oxhey, Bushey      1\n",
              "i love you so much || he/him      1\n",
              "Name: Location, Length: 12220, dtype: int64"
            ]
          },
          "execution_count": 9,
          "metadata": {},
          "output_type": "execute_result"
        }
      ],
      "source": [
        "# There are a total of 12220 different locations from where tweets have been generated\n",
        "df.Location.value_counts()"
      ]
    },
    {
      "cell_type": "code",
      "execution_count": null,
      "id": "80114bf8",
      "metadata": {
        "id": "80114bf8",
        "outputId": "b209ba6d-db04-4bc8-b834-cf74c2867f5b"
      },
      "outputs": [
        {
          "data": {
            "text/plain": [
              "Positive              11422\n",
              "Negative               9917\n",
              "Neutral                7713\n",
              "Extremely Positive     6624\n",
              "Extremely Negative     5481\n",
              "Name: Sentiment, dtype: int64"
            ]
          },
          "execution_count": 10,
          "metadata": {},
          "output_type": "execute_result"
        }
      ],
      "source": [
        "df.Sentiment.value_counts() # 5 types of Sentiments in our Dataset"
      ]
    },
    {
      "cell_type": "markdown",
      "id": "66d75d5e",
      "metadata": {
        "id": "66d75d5e"
      },
      "source": [
        "## Exploratory Data Analysis\n",
        "### Having a look at some of the Tweets that have been made and the Sentiments that they signify"
      ]
    },
    {
      "cell_type": "code",
      "execution_count": null,
      "id": "35f87457",
      "metadata": {
        "id": "35f87457",
        "outputId": "a0fd1fbf-c7e6-4ca6-f9f2-397a7cab31d7"
      },
      "outputs": [
        {
          "data": {
            "text/html": [
              "<div>\n",
              "<style scoped>\n",
              "    .dataframe tbody tr th:only-of-type {\n",
              "        vertical-align: middle;\n",
              "    }\n",
              "\n",
              "    .dataframe tbody tr th {\n",
              "        vertical-align: top;\n",
              "    }\n",
              "\n",
              "    .dataframe thead th {\n",
              "        text-align: right;\n",
              "    }\n",
              "</style>\n",
              "<table border=\"1\" class=\"dataframe\">\n",
              "  <thead>\n",
              "    <tr style=\"text-align: right;\">\n",
              "      <th></th>\n",
              "      <th>UserName</th>\n",
              "      <th>ScreenName</th>\n",
              "      <th>Location</th>\n",
              "      <th>TweetAt</th>\n",
              "      <th>OriginalTweet</th>\n",
              "      <th>Sentiment</th>\n",
              "    </tr>\n",
              "  </thead>\n",
              "  <tbody>\n",
              "    <tr>\n",
              "      <th>1</th>\n",
              "      <td>3800</td>\n",
              "      <td>48752</td>\n",
              "      <td>UK</td>\n",
              "      <td>16-03-2020</td>\n",
              "      <td>advice Talk to your neighbours family to excha...</td>\n",
              "      <td>Positive</td>\n",
              "    </tr>\n",
              "    <tr>\n",
              "      <th>2</th>\n",
              "      <td>3801</td>\n",
              "      <td>48753</td>\n",
              "      <td>Vagabonds</td>\n",
              "      <td>16-03-2020</td>\n",
              "      <td>Coronavirus Australia: Woolworths to give elde...</td>\n",
              "      <td>Positive</td>\n",
              "    </tr>\n",
              "    <tr>\n",
              "      <th>3</th>\n",
              "      <td>3802</td>\n",
              "      <td>48754</td>\n",
              "      <td>NaN</td>\n",
              "      <td>16-03-2020</td>\n",
              "      <td>My food stock is not the only one which is emp...</td>\n",
              "      <td>Positive</td>\n",
              "    </tr>\n",
              "    <tr>\n",
              "      <th>5</th>\n",
              "      <td>3804</td>\n",
              "      <td>48756</td>\n",
              "      <td>ÃT: 36.319708,-82.363649</td>\n",
              "      <td>16-03-2020</td>\n",
              "      <td>As news of the regionÂs first confirmed COVID...</td>\n",
              "      <td>Positive</td>\n",
              "    </tr>\n",
              "    <tr>\n",
              "      <th>6</th>\n",
              "      <td>3805</td>\n",
              "      <td>48757</td>\n",
              "      <td>35.926541,-78.753267</td>\n",
              "      <td>16-03-2020</td>\n",
              "      <td>Cashier at grocery store was sharing his insig...</td>\n",
              "      <td>Positive</td>\n",
              "    </tr>\n",
              "    <tr>\n",
              "      <th>...</th>\n",
              "      <td>...</td>\n",
              "      <td>...</td>\n",
              "      <td>...</td>\n",
              "      <td>...</td>\n",
              "      <td>...</td>\n",
              "      <td>...</td>\n",
              "    </tr>\n",
              "    <tr>\n",
              "      <th>41140</th>\n",
              "      <td>44939</td>\n",
              "      <td>89891</td>\n",
              "      <td>Pakistan</td>\n",
              "      <td>14-04-2020</td>\n",
              "      <td>Good News! \\r\\r\\nWe'll Soon Announce Our High ...</td>\n",
              "      <td>Positive</td>\n",
              "    </tr>\n",
              "    <tr>\n",
              "      <th>41145</th>\n",
              "      <td>44944</td>\n",
              "      <td>89896</td>\n",
              "      <td>Manhattan, NY</td>\n",
              "      <td>14-04-2020</td>\n",
              "      <td>How exactly are we going to re-open New York C...</td>\n",
              "      <td>Positive</td>\n",
              "    </tr>\n",
              "    <tr>\n",
              "      <th>41146</th>\n",
              "      <td>44945</td>\n",
              "      <td>89897</td>\n",
              "      <td>Gurgaon, India</td>\n",
              "      <td>14-04-2020</td>\n",
              "      <td>#Gold prices rose to a more than 7-year high t...</td>\n",
              "      <td>Positive</td>\n",
              "    </tr>\n",
              "    <tr>\n",
              "      <th>41150</th>\n",
              "      <td>44949</td>\n",
              "      <td>89901</td>\n",
              "      <td>OHIO</td>\n",
              "      <td>14-04-2020</td>\n",
              "      <td>I never that weÂd be in a situation &amp;amp; wor...</td>\n",
              "      <td>Positive</td>\n",
              "    </tr>\n",
              "    <tr>\n",
              "      <th>41154</th>\n",
              "      <td>44953</td>\n",
              "      <td>89905</td>\n",
              "      <td>NaN</td>\n",
              "      <td>14-04-2020</td>\n",
              "      <td>You know itÂs getting tough when @KameronWild...</td>\n",
              "      <td>Positive</td>\n",
              "    </tr>\n",
              "  </tbody>\n",
              "</table>\n",
              "<p>11422 rows × 6 columns</p>\n",
              "</div>"
            ],
            "text/plain": [
              "       UserName  ScreenName                   Location     TweetAt  \\\n",
              "1          3800       48752                         UK  16-03-2020   \n",
              "2          3801       48753                  Vagabonds  16-03-2020   \n",
              "3          3802       48754                        NaN  16-03-2020   \n",
              "5          3804       48756  ÃT: 36.319708,-82.363649  16-03-2020   \n",
              "6          3805       48757       35.926541,-78.753267  16-03-2020   \n",
              "...         ...         ...                        ...         ...   \n",
              "41140     44939       89891                   Pakistan  14-04-2020   \n",
              "41145     44944       89896              Manhattan, NY  14-04-2020   \n",
              "41146     44945       89897             Gurgaon, India  14-04-2020   \n",
              "41150     44949       89901                       OHIO  14-04-2020   \n",
              "41154     44953       89905                        NaN  14-04-2020   \n",
              "\n",
              "                                           OriginalTweet Sentiment  \n",
              "1      advice Talk to your neighbours family to excha...  Positive  \n",
              "2      Coronavirus Australia: Woolworths to give elde...  Positive  \n",
              "3      My food stock is not the only one which is emp...  Positive  \n",
              "5      As news of the regionÂs first confirmed COVID...  Positive  \n",
              "6      Cashier at grocery store was sharing his insig...  Positive  \n",
              "...                                                  ...       ...  \n",
              "41140  Good News! \\r\\r\\nWe'll Soon Announce Our High ...  Positive  \n",
              "41145  How exactly are we going to re-open New York C...  Positive  \n",
              "41146  #Gold prices rose to a more than 7-year high t...  Positive  \n",
              "41150  I never that weÂd be in a situation &amp; wor...  Positive  \n",
              "41154  You know itÂs getting tough when @KameronWild...  Positive  \n",
              "\n",
              "[11422 rows x 6 columns]"
            ]
          },
          "execution_count": 11,
          "metadata": {},
          "output_type": "execute_result"
        }
      ],
      "source": [
        "df[df['Sentiment'] == 'Positive']"
      ]
    },
    {
      "cell_type": "code",
      "execution_count": null,
      "id": "79a3da28",
      "metadata": {
        "id": "79a3da28",
        "outputId": "8f609772-2a63-48ec-b9e5-316e29642e75"
      },
      "outputs": [
        {
          "data": {
            "text/plain": [
              "'Cashier at grocery store was sharing his insights on #Covid_19 To prove his credibility he commented \"I\\'m in Civics class so I know what I\\'m talking about\". https://t.co/ieFDNeHgDO'"
            ]
          },
          "execution_count": 12,
          "metadata": {},
          "output_type": "execute_result"
        }
      ],
      "source": [
        "df[df['Sentiment'] == 'Positive'].loc[6,'OriginalTweet']"
      ]
    },
    {
      "cell_type": "markdown",
      "id": "b8fd6126",
      "metadata": {
        "id": "b8fd6126"
      },
      "source": [
        "- The above tweet signifies a <b>Positive Sentiment</b> (insights,credibility)"
      ]
    },
    {
      "cell_type": "code",
      "execution_count": null,
      "id": "6b519dfc",
      "metadata": {
        "id": "6b519dfc",
        "outputId": "6efbc1af-5955-4313-b465-0f923a187508"
      },
      "outputs": [
        {
          "data": {
            "text/html": [
              "<div>\n",
              "<style scoped>\n",
              "    .dataframe tbody tr th:only-of-type {\n",
              "        vertical-align: middle;\n",
              "    }\n",
              "\n",
              "    .dataframe tbody tr th {\n",
              "        vertical-align: top;\n",
              "    }\n",
              "\n",
              "    .dataframe thead th {\n",
              "        text-align: right;\n",
              "    }\n",
              "</style>\n",
              "<table border=\"1\" class=\"dataframe\">\n",
              "  <thead>\n",
              "    <tr style=\"text-align: right;\">\n",
              "      <th></th>\n",
              "      <th>UserName</th>\n",
              "      <th>ScreenName</th>\n",
              "      <th>Location</th>\n",
              "      <th>TweetAt</th>\n",
              "      <th>OriginalTweet</th>\n",
              "      <th>Sentiment</th>\n",
              "    </tr>\n",
              "  </thead>\n",
              "  <tbody>\n",
              "    <tr>\n",
              "      <th>9</th>\n",
              "      <td>3808</td>\n",
              "      <td>48760</td>\n",
              "      <td>BHAVNAGAR,GUJRAT</td>\n",
              "      <td>16-03-2020</td>\n",
              "      <td>For corona prevention,we should stop to buy th...</td>\n",
              "      <td>Negative</td>\n",
              "    </tr>\n",
              "    <tr>\n",
              "      <th>24</th>\n",
              "      <td>3823</td>\n",
              "      <td>48775</td>\n",
              "      <td>Downstage centre</td>\n",
              "      <td>16-03-2020</td>\n",
              "      <td>@10DowningStreet @grantshapps what is being do...</td>\n",
              "      <td>Negative</td>\n",
              "    </tr>\n",
              "    <tr>\n",
              "      <th>26</th>\n",
              "      <td>3825</td>\n",
              "      <td>48777</td>\n",
              "      <td>Ketchum, Idaho</td>\n",
              "      <td>16-03-2020</td>\n",
              "      <td>In preparation for higher demand and a potenti...</td>\n",
              "      <td>Negative</td>\n",
              "    </tr>\n",
              "    <tr>\n",
              "      <th>28</th>\n",
              "      <td>3827</td>\n",
              "      <td>48779</td>\n",
              "      <td>New York, NY</td>\n",
              "      <td>16-03-2020</td>\n",
              "      <td>Do you see malicious price increases in NYC? T...</td>\n",
              "      <td>Negative</td>\n",
              "    </tr>\n",
              "    <tr>\n",
              "      <th>30</th>\n",
              "      <td>3829</td>\n",
              "      <td>48781</td>\n",
              "      <td>NaN</td>\n",
              "      <td>16-03-2020</td>\n",
              "      <td>There Is of in the Country  The more empty she...</td>\n",
              "      <td>Negative</td>\n",
              "    </tr>\n",
              "    <tr>\n",
              "      <th>...</th>\n",
              "      <td>...</td>\n",
              "      <td>...</td>\n",
              "      <td>...</td>\n",
              "      <td>...</td>\n",
              "      <td>...</td>\n",
              "      <td>...</td>\n",
              "    </tr>\n",
              "    <tr>\n",
              "      <th>41127</th>\n",
              "      <td>44926</td>\n",
              "      <td>89878</td>\n",
              "      <td>NaN</td>\n",
              "      <td>14-04-2020</td>\n",
              "      <td>Today at the grocery store I saw someone getti...</td>\n",
              "      <td>Negative</td>\n",
              "    </tr>\n",
              "    <tr>\n",
              "      <th>41131</th>\n",
              "      <td>44930</td>\n",
              "      <td>89882</td>\n",
              "      <td>Accra, Ghana</td>\n",
              "      <td>14-04-2020</td>\n",
              "      <td>In every human affliction there are  gainers a...</td>\n",
              "      <td>Negative</td>\n",
              "    </tr>\n",
              "    <tr>\n",
              "      <th>41147</th>\n",
              "      <td>44946</td>\n",
              "      <td>89898</td>\n",
              "      <td>Brooklyn, NY</td>\n",
              "      <td>14-04-2020</td>\n",
              "      <td>YÂall really shitting that much more at home?...</td>\n",
              "      <td>Negative</td>\n",
              "    </tr>\n",
              "    <tr>\n",
              "      <th>41149</th>\n",
              "      <td>44948</td>\n",
              "      <td>89900</td>\n",
              "      <td>Toronto, Ontario</td>\n",
              "      <td>14-04-2020</td>\n",
              "      <td>Still shocked by the number of #Toronto superm...</td>\n",
              "      <td>Negative</td>\n",
              "    </tr>\n",
              "    <tr>\n",
              "      <th>41156</th>\n",
              "      <td>44955</td>\n",
              "      <td>89907</td>\n",
              "      <td>i love you so much || he/him</td>\n",
              "      <td>14-04-2020</td>\n",
              "      <td>@TartiiCat Well new/used Rift S are going for ...</td>\n",
              "      <td>Negative</td>\n",
              "    </tr>\n",
              "  </tbody>\n",
              "</table>\n",
              "<p>9917 rows × 6 columns</p>\n",
              "</div>"
            ],
            "text/plain": [
              "       UserName  ScreenName                      Location     TweetAt  \\\n",
              "9          3808       48760              BHAVNAGAR,GUJRAT  16-03-2020   \n",
              "24         3823       48775              Downstage centre  16-03-2020   \n",
              "26         3825       48777                Ketchum, Idaho  16-03-2020   \n",
              "28         3827       48779                  New York, NY  16-03-2020   \n",
              "30         3829       48781                           NaN  16-03-2020   \n",
              "...         ...         ...                           ...         ...   \n",
              "41127     44926       89878                           NaN  14-04-2020   \n",
              "41131     44930       89882                  Accra, Ghana  14-04-2020   \n",
              "41147     44946       89898                  Brooklyn, NY  14-04-2020   \n",
              "41149     44948       89900              Toronto, Ontario  14-04-2020   \n",
              "41156     44955       89907  i love you so much || he/him  14-04-2020   \n",
              "\n",
              "                                           OriginalTweet Sentiment  \n",
              "9      For corona prevention,we should stop to buy th...  Negative  \n",
              "24     @10DowningStreet @grantshapps what is being do...  Negative  \n",
              "26     In preparation for higher demand and a potenti...  Negative  \n",
              "28     Do you see malicious price increases in NYC? T...  Negative  \n",
              "30     There Is of in the Country  The more empty she...  Negative  \n",
              "...                                                  ...       ...  \n",
              "41127  Today at the grocery store I saw someone getti...  Negative  \n",
              "41131  In every human affliction there are  gainers a...  Negative  \n",
              "41147  YÂall really shitting that much more at home?...  Negative  \n",
              "41149  Still shocked by the number of #Toronto superm...  Negative  \n",
              "41156  @TartiiCat Well new/used Rift S are going for ...  Negative  \n",
              "\n",
              "[9917 rows x 6 columns]"
            ]
          },
          "execution_count": 13,
          "metadata": {},
          "output_type": "execute_result"
        }
      ],
      "source": [
        "df[df['Sentiment'] == 'Negative']"
      ]
    },
    {
      "cell_type": "code",
      "execution_count": null,
      "id": "0926859f",
      "metadata": {
        "id": "0926859f",
        "outputId": "a52d1e9d-4412-477e-9cea-e2308d33da1a"
      },
      "outputs": [
        {
          "data": {
            "text/plain": [
              "'Do you see malicious price increases in NYC? The NYC Department of Consumer and Worker Protection (DCWP) has set up a page to digitally file a complaint. Click here: https://t.co/oEx6Y8mm2K\\r\\r\\n\\r\\r\\nTo file a complaint (use the word\"Overcharge\") https://t.co/MdMmoBttOP\\r\\r\\n#COVID19 #CovidNYC'"
            ]
          },
          "execution_count": 14,
          "metadata": {},
          "output_type": "execute_result"
        }
      ],
      "source": [
        "df[df['Sentiment'] == 'Negative'].loc[28,'OriginalTweet']"
      ]
    },
    {
      "cell_type": "markdown",
      "id": "4b7b6dac",
      "metadata": {
        "id": "4b7b6dac"
      },
      "source": [
        "- The above tweet signifies a <b>Negative Sentiment</b> (malicious,complaint)"
      ]
    },
    {
      "cell_type": "code",
      "execution_count": null,
      "id": "afc68297",
      "metadata": {
        "id": "afc68297",
        "outputId": "019d1493-5150-490e-efd9-25a60d69e507"
      },
      "outputs": [
        {
          "data": {
            "text/html": [
              "<div>\n",
              "<style scoped>\n",
              "    .dataframe tbody tr th:only-of-type {\n",
              "        vertical-align: middle;\n",
              "    }\n",
              "\n",
              "    .dataframe tbody tr th {\n",
              "        vertical-align: top;\n",
              "    }\n",
              "\n",
              "    .dataframe thead th {\n",
              "        text-align: right;\n",
              "    }\n",
              "</style>\n",
              "<table border=\"1\" class=\"dataframe\">\n",
              "  <thead>\n",
              "    <tr style=\"text-align: right;\">\n",
              "      <th></th>\n",
              "      <th>UserName</th>\n",
              "      <th>ScreenName</th>\n",
              "      <th>Location</th>\n",
              "      <th>TweetAt</th>\n",
              "      <th>OriginalTweet</th>\n",
              "      <th>Sentiment</th>\n",
              "    </tr>\n",
              "  </thead>\n",
              "  <tbody>\n",
              "    <tr>\n",
              "      <th>0</th>\n",
              "      <td>3799</td>\n",
              "      <td>48751</td>\n",
              "      <td>London</td>\n",
              "      <td>16-03-2020</td>\n",
              "      <td>@MeNyrbie @Phil_Gahan @Chrisitv https://t.co/i...</td>\n",
              "      <td>Neutral</td>\n",
              "    </tr>\n",
              "    <tr>\n",
              "      <th>7</th>\n",
              "      <td>3806</td>\n",
              "      <td>48758</td>\n",
              "      <td>Austria</td>\n",
              "      <td>16-03-2020</td>\n",
              "      <td>Was at the supermarket today. Didn't buy toile...</td>\n",
              "      <td>Neutral</td>\n",
              "    </tr>\n",
              "    <tr>\n",
              "      <th>10</th>\n",
              "      <td>3809</td>\n",
              "      <td>48761</td>\n",
              "      <td>Makati, Manila</td>\n",
              "      <td>16-03-2020</td>\n",
              "      <td>All month there hasn't been crowding in the su...</td>\n",
              "      <td>Neutral</td>\n",
              "    </tr>\n",
              "    <tr>\n",
              "      <th>16</th>\n",
              "      <td>3815</td>\n",
              "      <td>48767</td>\n",
              "      <td>Saudi Arabia</td>\n",
              "      <td>16-03-2020</td>\n",
              "      <td>????? ????? ????? ????? ??\\r\\r\\n?????? ????? ?...</td>\n",
              "      <td>Neutral</td>\n",
              "    </tr>\n",
              "    <tr>\n",
              "      <th>17</th>\n",
              "      <td>3816</td>\n",
              "      <td>48768</td>\n",
              "      <td>Ontario, Canada</td>\n",
              "      <td>16-03-2020</td>\n",
              "      <td>@eyeonthearctic 16MAR20 Russia consumer survei...</td>\n",
              "      <td>Neutral</td>\n",
              "    </tr>\n",
              "    <tr>\n",
              "      <th>...</th>\n",
              "      <td>...</td>\n",
              "      <td>...</td>\n",
              "      <td>...</td>\n",
              "      <td>...</td>\n",
              "      <td>...</td>\n",
              "      <td>...</td>\n",
              "    </tr>\n",
              "    <tr>\n",
              "      <th>41141</th>\n",
              "      <td>44940</td>\n",
              "      <td>89892</td>\n",
              "      <td>India</td>\n",
              "      <td>14-04-2020</td>\n",
              "      <td>#Coronavirus ?? ????? ??? ????? ?? ??? ???????...</td>\n",
              "      <td>Neutral</td>\n",
              "    </tr>\n",
              "    <tr>\n",
              "      <th>41143</th>\n",
              "      <td>44942</td>\n",
              "      <td>89894</td>\n",
              "      <td>In burning hell.</td>\n",
              "      <td>14-04-2020</td>\n",
              "      <td>https://t.co/8s4vKvcO1r #5gtowers?? #EcuadorUn...</td>\n",
              "      <td>Neutral</td>\n",
              "    </tr>\n",
              "    <tr>\n",
              "      <th>41144</th>\n",
              "      <td>44943</td>\n",
              "      <td>89895</td>\n",
              "      <td>NaN</td>\n",
              "      <td>14-04-2020</td>\n",
              "      <td>@_Sunrise_SV @Gamzap @NPR What does not having...</td>\n",
              "      <td>Neutral</td>\n",
              "    </tr>\n",
              "    <tr>\n",
              "      <th>41152</th>\n",
              "      <td>44951</td>\n",
              "      <td>89903</td>\n",
              "      <td>Wellington City, New Zealand</td>\n",
              "      <td>14-04-2020</td>\n",
              "      <td>Airline pilots offering to stock supermarket s...</td>\n",
              "      <td>Neutral</td>\n",
              "    </tr>\n",
              "    <tr>\n",
              "      <th>41155</th>\n",
              "      <td>44954</td>\n",
              "      <td>89906</td>\n",
              "      <td>NaN</td>\n",
              "      <td>14-04-2020</td>\n",
              "      <td>Is it wrong that the smell of hand sanitizer i...</td>\n",
              "      <td>Neutral</td>\n",
              "    </tr>\n",
              "  </tbody>\n",
              "</table>\n",
              "<p>7713 rows × 6 columns</p>\n",
              "</div>"
            ],
            "text/plain": [
              "       UserName  ScreenName                      Location     TweetAt  \\\n",
              "0          3799       48751                        London  16-03-2020   \n",
              "7          3806       48758                       Austria  16-03-2020   \n",
              "10         3809       48761                Makati, Manila  16-03-2020   \n",
              "16         3815       48767                  Saudi Arabia  16-03-2020   \n",
              "17         3816       48768               Ontario, Canada  16-03-2020   \n",
              "...         ...         ...                           ...         ...   \n",
              "41141     44940       89892                         India  14-04-2020   \n",
              "41143     44942       89894              In burning hell.  14-04-2020   \n",
              "41144     44943       89895                           NaN  14-04-2020   \n",
              "41152     44951       89903  Wellington City, New Zealand  14-04-2020   \n",
              "41155     44954       89906                           NaN  14-04-2020   \n",
              "\n",
              "                                           OriginalTweet Sentiment  \n",
              "0      @MeNyrbie @Phil_Gahan @Chrisitv https://t.co/i...   Neutral  \n",
              "7      Was at the supermarket today. Didn't buy toile...   Neutral  \n",
              "10     All month there hasn't been crowding in the su...   Neutral  \n",
              "16     ????? ????? ????? ????? ??\\r\\r\\n?????? ????? ?...   Neutral  \n",
              "17     @eyeonthearctic 16MAR20 Russia consumer survei...   Neutral  \n",
              "...                                                  ...       ...  \n",
              "41141  #Coronavirus ?? ????? ??? ????? ?? ??? ???????...   Neutral  \n",
              "41143  https://t.co/8s4vKvcO1r #5gtowers?? #EcuadorUn...   Neutral  \n",
              "41144  @_Sunrise_SV @Gamzap @NPR What does not having...   Neutral  \n",
              "41152  Airline pilots offering to stock supermarket s...   Neutral  \n",
              "41155  Is it wrong that the smell of hand sanitizer i...   Neutral  \n",
              "\n",
              "[7713 rows x 6 columns]"
            ]
          },
          "execution_count": 15,
          "metadata": {},
          "output_type": "execute_result"
        }
      ],
      "source": [
        "df[df['Sentiment'] == 'Neutral']"
      ]
    },
    {
      "cell_type": "code",
      "execution_count": null,
      "id": "75ca9dce",
      "metadata": {
        "id": "75ca9dce",
        "outputId": "88e81e59-7dd2-4895-bee0-1b12d07a728f"
      },
      "outputs": [
        {
          "data": {
            "text/plain": [
              "\"Was at the supermarket today. Didn't buy toilet paper. #Rebel\\r\\r\\n\\r\\r\\n#toiletpapercrisis #covid_19 https://t.co/eVXkQLIdAZ\""
            ]
          },
          "execution_count": 16,
          "metadata": {},
          "output_type": "execute_result"
        }
      ],
      "source": [
        "df[df['Sentiment'] == 'Neutral'].loc[7,'OriginalTweet']"
      ]
    },
    {
      "cell_type": "markdown",
      "id": "db307c3e",
      "metadata": {
        "id": "db307c3e"
      },
      "source": [
        "- The above tweet signifies a <b>Neutral Sentiment</b>"
      ]
    },
    {
      "cell_type": "code",
      "execution_count": null,
      "id": "6cd9e7b9",
      "metadata": {
        "id": "6cd9e7b9",
        "outputId": "b1333241-ff1b-4e1e-f883-0d5b27b85746"
      },
      "outputs": [
        {
          "data": {
            "text/html": [
              "<div>\n",
              "<style scoped>\n",
              "    .dataframe tbody tr th:only-of-type {\n",
              "        vertical-align: middle;\n",
              "    }\n",
              "\n",
              "    .dataframe tbody tr th {\n",
              "        vertical-align: top;\n",
              "    }\n",
              "\n",
              "    .dataframe thead th {\n",
              "        text-align: right;\n",
              "    }\n",
              "</style>\n",
              "<table border=\"1\" class=\"dataframe\">\n",
              "  <thead>\n",
              "    <tr style=\"text-align: right;\">\n",
              "      <th></th>\n",
              "      <th>UserName</th>\n",
              "      <th>ScreenName</th>\n",
              "      <th>Location</th>\n",
              "      <th>TweetAt</th>\n",
              "      <th>OriginalTweet</th>\n",
              "      <th>Sentiment</th>\n",
              "    </tr>\n",
              "  </thead>\n",
              "  <tbody>\n",
              "    <tr>\n",
              "      <th>11</th>\n",
              "      <td>3810</td>\n",
              "      <td>48762</td>\n",
              "      <td>Pitt Meadows, BC, Canada</td>\n",
              "      <td>16-03-2020</td>\n",
              "      <td>Due to the Covid-19 situation, we have increas...</td>\n",
              "      <td>Extremely Positive</td>\n",
              "    </tr>\n",
              "    <tr>\n",
              "      <th>12</th>\n",
              "      <td>3811</td>\n",
              "      <td>48763</td>\n",
              "      <td>Horningsea</td>\n",
              "      <td>16-03-2020</td>\n",
              "      <td>#horningsea is a caring community. LetÂs ALL ...</td>\n",
              "      <td>Extremely Positive</td>\n",
              "    </tr>\n",
              "    <tr>\n",
              "      <th>18</th>\n",
              "      <td>3817</td>\n",
              "      <td>48769</td>\n",
              "      <td>North America</td>\n",
              "      <td>16-03-2020</td>\n",
              "      <td>Amazon Glitch Stymies Whole Foods, Fresh Groce...</td>\n",
              "      <td>Extremely Positive</td>\n",
              "    </tr>\n",
              "    <tr>\n",
              "      <th>22</th>\n",
              "      <td>3821</td>\n",
              "      <td>48773</td>\n",
              "      <td>NaN</td>\n",
              "      <td>16-03-2020</td>\n",
              "      <td>We have AMAZING CHEAP DEALS! FOR THE #COVID201...</td>\n",
              "      <td>Extremely Positive</td>\n",
              "    </tr>\n",
              "    <tr>\n",
              "      <th>23</th>\n",
              "      <td>3822</td>\n",
              "      <td>48774</td>\n",
              "      <td>NaN</td>\n",
              "      <td>16-03-2020</td>\n",
              "      <td>We have AMAZING CHEAP DEALS! FOR THE #COVID201...</td>\n",
              "      <td>Extremely Positive</td>\n",
              "    </tr>\n",
              "    <tr>\n",
              "      <th>...</th>\n",
              "      <td>...</td>\n",
              "      <td>...</td>\n",
              "      <td>...</td>\n",
              "      <td>...</td>\n",
              "      <td>...</td>\n",
              "      <td>...</td>\n",
              "    </tr>\n",
              "    <tr>\n",
              "      <th>41137</th>\n",
              "      <td>44936</td>\n",
              "      <td>89888</td>\n",
              "      <td>LES, NYC</td>\n",
              "      <td>14-04-2020</td>\n",
              "      <td>Distilleries have switched portions of their p...</td>\n",
              "      <td>Extremely Positive</td>\n",
              "    </tr>\n",
              "    <tr>\n",
              "      <th>41138</th>\n",
              "      <td>44937</td>\n",
              "      <td>89889</td>\n",
              "      <td>Los Angeles, CA</td>\n",
              "      <td>14-04-2020</td>\n",
              "      <td>HMU FOR PRICES!! Got great deals going right n...</td>\n",
              "      <td>Extremely Positive</td>\n",
              "    </tr>\n",
              "    <tr>\n",
              "      <th>41142</th>\n",
              "      <td>44941</td>\n",
              "      <td>89893</td>\n",
              "      <td>Juba south sudan</td>\n",
              "      <td>14-04-2020</td>\n",
              "      <td>@MajangChien @MTNSSD @MTNSSD is worst than COV...</td>\n",
              "      <td>Extremely Positive</td>\n",
              "    </tr>\n",
              "    <tr>\n",
              "      <th>41148</th>\n",
              "      <td>44947</td>\n",
              "      <td>89899</td>\n",
              "      <td>NaN</td>\n",
              "      <td>14-04-2020</td>\n",
              "      <td>UV light Sterilizer Sanitizer for your mask an...</td>\n",
              "      <td>Extremely Positive</td>\n",
              "    </tr>\n",
              "    <tr>\n",
              "      <th>41151</th>\n",
              "      <td>44950</td>\n",
              "      <td>89902</td>\n",
              "      <td>NaN</td>\n",
              "      <td>14-04-2020</td>\n",
              "      <td>@MrSilverScott you are definitely my man. I fe...</td>\n",
              "      <td>Extremely Positive</td>\n",
              "    </tr>\n",
              "  </tbody>\n",
              "</table>\n",
              "<p>6624 rows × 6 columns</p>\n",
              "</div>"
            ],
            "text/plain": [
              "       UserName  ScreenName                   Location     TweetAt  \\\n",
              "11         3810       48762  Pitt Meadows, BC, Canada   16-03-2020   \n",
              "12         3811       48763                 Horningsea  16-03-2020   \n",
              "18         3817       48769              North America  16-03-2020   \n",
              "22         3821       48773                        NaN  16-03-2020   \n",
              "23         3822       48774                        NaN  16-03-2020   \n",
              "...         ...         ...                        ...         ...   \n",
              "41137     44936       89888                   LES, NYC  14-04-2020   \n",
              "41138     44937       89889            Los Angeles, CA  14-04-2020   \n",
              "41142     44941       89893           Juba south sudan  14-04-2020   \n",
              "41148     44947       89899                        NaN  14-04-2020   \n",
              "41151     44950       89902                        NaN  14-04-2020   \n",
              "\n",
              "                                           OriginalTweet           Sentiment  \n",
              "11     Due to the Covid-19 situation, we have increas...  Extremely Positive  \n",
              "12     #horningsea is a caring community. LetÂs ALL ...  Extremely Positive  \n",
              "18     Amazon Glitch Stymies Whole Foods, Fresh Groce...  Extremely Positive  \n",
              "22     We have AMAZING CHEAP DEALS! FOR THE #COVID201...  Extremely Positive  \n",
              "23     We have AMAZING CHEAP DEALS! FOR THE #COVID201...  Extremely Positive  \n",
              "...                                                  ...                 ...  \n",
              "41137  Distilleries have switched portions of their p...  Extremely Positive  \n",
              "41138  HMU FOR PRICES!! Got great deals going right n...  Extremely Positive  \n",
              "41142  @MajangChien @MTNSSD @MTNSSD is worst than COV...  Extremely Positive  \n",
              "41148  UV light Sterilizer Sanitizer for your mask an...  Extremely Positive  \n",
              "41151  @MrSilverScott you are definitely my man. I fe...  Extremely Positive  \n",
              "\n",
              "[6624 rows x 6 columns]"
            ]
          },
          "execution_count": 17,
          "metadata": {},
          "output_type": "execute_result"
        }
      ],
      "source": [
        "df[df['Sentiment'] == 'Extremely Positive']"
      ]
    },
    {
      "cell_type": "code",
      "execution_count": null,
      "id": "4741ecde",
      "metadata": {
        "id": "4741ecde",
        "outputId": "34f6373f-2c53-47e6-9372-1f221086a8f0"
      },
      "outputs": [
        {
          "data": {
            "text/plain": [
              "'Due to the Covid-19 situation, we have increased demand for all food products. \\r\\r\\n\\r\\r\\nThe wait time may be longer for all online orders, particularly beef share and freezer packs. \\r\\r\\n\\r\\r\\nWe thank you for your patience during this time.'"
            ]
          },
          "execution_count": 18,
          "metadata": {},
          "output_type": "execute_result"
        }
      ],
      "source": [
        "df[df['Sentiment'] == 'Extremely Positive'].loc[11,'OriginalTweet']"
      ]
    },
    {
      "cell_type": "markdown",
      "id": "28bed90e",
      "metadata": {
        "id": "28bed90e"
      },
      "source": [
        "- The above tweet signifies an <b>Extremely Positive Sentiment</b> (increased,thank you,patience)"
      ]
    },
    {
      "cell_type": "code",
      "execution_count": null,
      "id": "921be697",
      "metadata": {
        "id": "921be697",
        "outputId": "1b36907e-70b6-4eef-f0d5-a6c77a4e4779"
      },
      "outputs": [
        {
          "data": {
            "text/html": [
              "<div>\n",
              "<style scoped>\n",
              "    .dataframe tbody tr th:only-of-type {\n",
              "        vertical-align: middle;\n",
              "    }\n",
              "\n",
              "    .dataframe tbody tr th {\n",
              "        vertical-align: top;\n",
              "    }\n",
              "\n",
              "    .dataframe thead th {\n",
              "        text-align: right;\n",
              "    }\n",
              "</style>\n",
              "<table border=\"1\" class=\"dataframe\">\n",
              "  <thead>\n",
              "    <tr style=\"text-align: right;\">\n",
              "      <th></th>\n",
              "      <th>UserName</th>\n",
              "      <th>ScreenName</th>\n",
              "      <th>Location</th>\n",
              "      <th>TweetAt</th>\n",
              "      <th>OriginalTweet</th>\n",
              "      <th>Sentiment</th>\n",
              "    </tr>\n",
              "  </thead>\n",
              "  <tbody>\n",
              "    <tr>\n",
              "      <th>4</th>\n",
              "      <td>3803</td>\n",
              "      <td>48755</td>\n",
              "      <td>NaN</td>\n",
              "      <td>16-03-2020</td>\n",
              "      <td>Me, ready to go at supermarket during the #COV...</td>\n",
              "      <td>Extremely Negative</td>\n",
              "    </tr>\n",
              "    <tr>\n",
              "      <th>20</th>\n",
              "      <td>3819</td>\n",
              "      <td>48771</td>\n",
              "      <td>southampton soxx xxx</td>\n",
              "      <td>16-03-2020</td>\n",
              "      <td>with 100  nations inficted with  covid  19  th...</td>\n",
              "      <td>Extremely Negative</td>\n",
              "    </tr>\n",
              "    <tr>\n",
              "      <th>27</th>\n",
              "      <td>3826</td>\n",
              "      <td>48778</td>\n",
              "      <td>Everywhere You Are!</td>\n",
              "      <td>16-03-2020</td>\n",
              "      <td>This morning I tested positive for Covid 19. I...</td>\n",
              "      <td>Extremely Negative</td>\n",
              "    </tr>\n",
              "    <tr>\n",
              "      <th>29</th>\n",
              "      <td>3828</td>\n",
              "      <td>48780</td>\n",
              "      <td>Someplace, USA</td>\n",
              "      <td>16-03-2020</td>\n",
              "      <td>@7SealsOfTheEnd Soon with dwindling supplies u...</td>\n",
              "      <td>Extremely Negative</td>\n",
              "    </tr>\n",
              "    <tr>\n",
              "      <th>42</th>\n",
              "      <td>3841</td>\n",
              "      <td>48793</td>\n",
              "      <td>Houston</td>\n",
              "      <td>16-03-2020</td>\n",
              "      <td>CHECK VIDEO ?? https://t.co/1ksn9Brl02 ??No fo...</td>\n",
              "      <td>Extremely Negative</td>\n",
              "    </tr>\n",
              "    <tr>\n",
              "      <th>...</th>\n",
              "      <td>...</td>\n",
              "      <td>...</td>\n",
              "      <td>...</td>\n",
              "      <td>...</td>\n",
              "      <td>...</td>\n",
              "      <td>...</td>\n",
              "    </tr>\n",
              "    <tr>\n",
              "      <th>41115</th>\n",
              "      <td>44914</td>\n",
              "      <td>89866</td>\n",
              "      <td>NaN</td>\n",
              "      <td>14-04-2020</td>\n",
              "      <td>Food Banks are not equipped for a 30% unemploy...</td>\n",
              "      <td>Extremely Negative</td>\n",
              "    </tr>\n",
              "    <tr>\n",
              "      <th>41128</th>\n",
              "      <td>44927</td>\n",
              "      <td>89879</td>\n",
              "      <td>Melbourne, Australia</td>\n",
              "      <td>14-04-2020</td>\n",
              "      <td>The COVID-19 pandemic and global oil price war...</td>\n",
              "      <td>Extremely Negative</td>\n",
              "    </tr>\n",
              "    <tr>\n",
              "      <th>41130</th>\n",
              "      <td>44929</td>\n",
              "      <td>89881</td>\n",
              "      <td>NaN</td>\n",
              "      <td>14-04-2020</td>\n",
              "      <td>Squeo works in the meat department of a Kroger...</td>\n",
              "      <td>Extremely Negative</td>\n",
              "    </tr>\n",
              "    <tr>\n",
              "      <th>41133</th>\n",
              "      <td>44932</td>\n",
              "      <td>89884</td>\n",
              "      <td>Austria</td>\n",
              "      <td>14-04-2020</td>\n",
              "      <td>A Singaporean politician who slammed a woman s...</td>\n",
              "      <td>Extremely Negative</td>\n",
              "    </tr>\n",
              "    <tr>\n",
              "      <th>41153</th>\n",
              "      <td>44952</td>\n",
              "      <td>89904</td>\n",
              "      <td>NaN</td>\n",
              "      <td>14-04-2020</td>\n",
              "      <td>Response to complaint not provided citing COVI...</td>\n",
              "      <td>Extremely Negative</td>\n",
              "    </tr>\n",
              "  </tbody>\n",
              "</table>\n",
              "<p>5481 rows × 6 columns</p>\n",
              "</div>"
            ],
            "text/plain": [
              "       UserName  ScreenName              Location     TweetAt  \\\n",
              "4          3803       48755                   NaN  16-03-2020   \n",
              "20         3819       48771  southampton soxx xxx  16-03-2020   \n",
              "27         3826       48778   Everywhere You Are!  16-03-2020   \n",
              "29         3828       48780        Someplace, USA  16-03-2020   \n",
              "42         3841       48793               Houston  16-03-2020   \n",
              "...         ...         ...                   ...         ...   \n",
              "41115     44914       89866                   NaN  14-04-2020   \n",
              "41128     44927       89879  Melbourne, Australia  14-04-2020   \n",
              "41130     44929       89881                   NaN  14-04-2020   \n",
              "41133     44932       89884               Austria  14-04-2020   \n",
              "41153     44952       89904                   NaN  14-04-2020   \n",
              "\n",
              "                                           OriginalTweet           Sentiment  \n",
              "4      Me, ready to go at supermarket during the #COV...  Extremely Negative  \n",
              "20     with 100  nations inficted with  covid  19  th...  Extremely Negative  \n",
              "27     This morning I tested positive for Covid 19. I...  Extremely Negative  \n",
              "29     @7SealsOfTheEnd Soon with dwindling supplies u...  Extremely Negative  \n",
              "42     CHECK VIDEO ?? https://t.co/1ksn9Brl02 ??No fo...  Extremely Negative  \n",
              "...                                                  ...                 ...  \n",
              "41115  Food Banks are not equipped for a 30% unemploy...  Extremely Negative  \n",
              "41128  The COVID-19 pandemic and global oil price war...  Extremely Negative  \n",
              "41130  Squeo works in the meat department of a Kroger...  Extremely Negative  \n",
              "41133  A Singaporean politician who slammed a woman s...  Extremely Negative  \n",
              "41153  Response to complaint not provided citing COVI...  Extremely Negative  \n",
              "\n",
              "[5481 rows x 6 columns]"
            ]
          },
          "execution_count": 19,
          "metadata": {},
          "output_type": "execute_result"
        }
      ],
      "source": [
        "df[df['Sentiment'] == 'Extremely Negative']"
      ]
    },
    {
      "cell_type": "code",
      "execution_count": null,
      "id": "5fd051b8",
      "metadata": {
        "id": "5fd051b8",
        "outputId": "5b051bbc-8991-4aa1-d12d-d79b75e3a5c1"
      },
      "outputs": [
        {
          "data": {
            "text/plain": [
              "'with 100  nations inficted with  covid  19  the world must  not  play fair with china  100 goverments must demand  china  adopts new guilde  lines on food safty  the  chinese  goverment  is guilty of  being  irosponcible   with life  on a global scale'"
            ]
          },
          "execution_count": 20,
          "metadata": {},
          "output_type": "execute_result"
        }
      ],
      "source": [
        "df[df['Sentiment'] == 'Extremely Negative'].loc[20,'OriginalTweet']"
      ]
    },
    {
      "cell_type": "markdown",
      "id": "2c11a751",
      "metadata": {
        "id": "2c11a751"
      },
      "source": [
        "- The above tweet signifies an <b>Extremely Negative Sentiment</b> (inflicted,guilty,irosponcible)"
      ]
    },
    {
      "cell_type": "markdown",
      "id": "9db3dd2d",
      "metadata": {
        "id": "9db3dd2d"
      },
      "source": [
        "## Handling Null values"
      ]
    },
    {
      "cell_type": "code",
      "execution_count": null,
      "id": "49f32fb6",
      "metadata": {
        "id": "49f32fb6",
        "outputId": "4d429f7a-3fdd-4feb-8703-0457e1c0ba51"
      },
      "outputs": [
        {
          "data": {
            "text/html": [
              "<div>\n",
              "<style scoped>\n",
              "    .dataframe tbody tr th:only-of-type {\n",
              "        vertical-align: middle;\n",
              "    }\n",
              "\n",
              "    .dataframe tbody tr th {\n",
              "        vertical-align: top;\n",
              "    }\n",
              "\n",
              "    .dataframe thead th {\n",
              "        text-align: right;\n",
              "    }\n",
              "</style>\n",
              "<table border=\"1\" class=\"dataframe\">\n",
              "  <thead>\n",
              "    <tr style=\"text-align: right;\">\n",
              "      <th></th>\n",
              "      <th>UserName</th>\n",
              "      <th>ScreenName</th>\n",
              "      <th>Location</th>\n",
              "      <th>TweetAt</th>\n",
              "      <th>OriginalTweet</th>\n",
              "      <th>Sentiment</th>\n",
              "    </tr>\n",
              "  </thead>\n",
              "  <tbody>\n",
              "    <tr>\n",
              "      <th>0</th>\n",
              "      <td>3799</td>\n",
              "      <td>48751</td>\n",
              "      <td>London</td>\n",
              "      <td>16-03-2020</td>\n",
              "      <td>@MeNyrbie @Phil_Gahan @Chrisitv https://t.co/i...</td>\n",
              "      <td>Neutral</td>\n",
              "    </tr>\n",
              "    <tr>\n",
              "      <th>1</th>\n",
              "      <td>3800</td>\n",
              "      <td>48752</td>\n",
              "      <td>UK</td>\n",
              "      <td>16-03-2020</td>\n",
              "      <td>advice Talk to your neighbours family to excha...</td>\n",
              "      <td>Positive</td>\n",
              "    </tr>\n",
              "    <tr>\n",
              "      <th>2</th>\n",
              "      <td>3801</td>\n",
              "      <td>48753</td>\n",
              "      <td>Vagabonds</td>\n",
              "      <td>16-03-2020</td>\n",
              "      <td>Coronavirus Australia: Woolworths to give elde...</td>\n",
              "      <td>Positive</td>\n",
              "    </tr>\n",
              "    <tr>\n",
              "      <th>3</th>\n",
              "      <td>3802</td>\n",
              "      <td>48754</td>\n",
              "      <td>NaN</td>\n",
              "      <td>16-03-2020</td>\n",
              "      <td>My food stock is not the only one which is emp...</td>\n",
              "      <td>Positive</td>\n",
              "    </tr>\n",
              "    <tr>\n",
              "      <th>4</th>\n",
              "      <td>3803</td>\n",
              "      <td>48755</td>\n",
              "      <td>NaN</td>\n",
              "      <td>16-03-2020</td>\n",
              "      <td>Me, ready to go at supermarket during the #COV...</td>\n",
              "      <td>Extremely Negative</td>\n",
              "    </tr>\n",
              "  </tbody>\n",
              "</table>\n",
              "</div>"
            ],
            "text/plain": [
              "   UserName  ScreenName   Location     TweetAt  \\\n",
              "0      3799       48751     London  16-03-2020   \n",
              "1      3800       48752         UK  16-03-2020   \n",
              "2      3801       48753  Vagabonds  16-03-2020   \n",
              "3      3802       48754        NaN  16-03-2020   \n",
              "4      3803       48755        NaN  16-03-2020   \n",
              "\n",
              "                                       OriginalTweet           Sentiment  \n",
              "0  @MeNyrbie @Phil_Gahan @Chrisitv https://t.co/i...             Neutral  \n",
              "1  advice Talk to your neighbours family to excha...            Positive  \n",
              "2  Coronavirus Australia: Woolworths to give elde...            Positive  \n",
              "3  My food stock is not the only one which is emp...            Positive  \n",
              "4  Me, ready to go at supermarket during the #COV...  Extremely Negative  "
            ]
          },
          "execution_count": 21,
          "metadata": {},
          "output_type": "execute_result"
        }
      ],
      "source": [
        "df.head() # We can observe that the 'Location' column has null values - NaN"
      ]
    },
    {
      "cell_type": "code",
      "execution_count": null,
      "id": "56359f30",
      "metadata": {
        "id": "56359f30",
        "outputId": "e4e30ef7-b0f9-410b-b98d-22fe43deaf8a"
      },
      "outputs": [
        {
          "data": {
            "text/plain": [
              "8590"
            ]
          },
          "execution_count": 22,
          "metadata": {},
          "output_type": "execute_result"
        }
      ],
      "source": [
        "df['Location'].isnull().sum() # 8590 missing values in 'Location'"
      ]
    },
    {
      "cell_type": "markdown",
      "id": "9bf0f996",
      "metadata": {
        "id": "9bf0f996"
      },
      "source": [
        "### Heat map for the missing values"
      ]
    },
    {
      "cell_type": "code",
      "execution_count": null,
      "id": "cb94a156",
      "metadata": {
        "id": "cb94a156",
        "outputId": "5c91ae79-dbb6-4e7d-a7eb-3cffe7b936b5"
      },
      "outputs": [
        {
          "data": {
            "image/png": "[encoded data removed]",
            "text/plain": [
              "<Figure size 1224x360 with 2 Axes>"
            ]
          },
          "metadata": {
            "needs_background": "light"
          },
          "output_type": "display_data"
        }
      ],
      "source": [
        "plt.figure(figsize=(17,5))\n",
        "sns.heatmap(df.isnull(),cbar = True,yticklabels = False,cmap ='Blues')\n",
        "plt.xlabel('Column_name',weight = 'bold',size = 13)\n",
        "plt.title(\"Missing values in the column\",weight = 'bold')\n",
        "plt.show()"
      ]
    },
    {
      "cell_type": "code",
      "execution_count": null,
      "id": "e58f2ccd",
      "metadata": {
        "id": "e58f2ccd",
        "outputId": "c2db9f97-fd3c-43af-e8a4-00bebf921bae"
      },
      "outputs": [
        {
          "data": {
            "text/html": [
              "<div>\n",
              "<style scoped>\n",
              "    .dataframe tbody tr th:only-of-type {\n",
              "        vertical-align: middle;\n",
              "    }\n",
              "\n",
              "    .dataframe tbody tr th {\n",
              "        vertical-align: top;\n",
              "    }\n",
              "\n",
              "    .dataframe thead th {\n",
              "        text-align: right;\n",
              "    }\n",
              "</style>\n",
              "<table border=\"1\" class=\"dataframe\">\n",
              "  <thead>\n",
              "    <tr style=\"text-align: right;\">\n",
              "      <th></th>\n",
              "      <th>UserName</th>\n",
              "      <th>ScreenName</th>\n",
              "      <th>Location</th>\n",
              "      <th>TweetAt</th>\n",
              "      <th>OriginalTweet</th>\n",
              "      <th>Sentiment</th>\n",
              "    </tr>\n",
              "  </thead>\n",
              "  <tbody>\n",
              "    <tr>\n",
              "      <th>0</th>\n",
              "      <td>3799</td>\n",
              "      <td>48751</td>\n",
              "      <td>London</td>\n",
              "      <td>16-03-2020</td>\n",
              "      <td>@MeNyrbie @Phil_Gahan @Chrisitv https://t.co/i...</td>\n",
              "      <td>Neutral</td>\n",
              "    </tr>\n",
              "    <tr>\n",
              "      <th>1</th>\n",
              "      <td>3800</td>\n",
              "      <td>48752</td>\n",
              "      <td>UK</td>\n",
              "      <td>16-03-2020</td>\n",
              "      <td>advice Talk to your neighbours family to excha...</td>\n",
              "      <td>Positive</td>\n",
              "    </tr>\n",
              "    <tr>\n",
              "      <th>2</th>\n",
              "      <td>3801</td>\n",
              "      <td>48753</td>\n",
              "      <td>Vagabonds</td>\n",
              "      <td>16-03-2020</td>\n",
              "      <td>Coronavirus Australia: Woolworths to give elde...</td>\n",
              "      <td>Positive</td>\n",
              "    </tr>\n",
              "    <tr>\n",
              "      <th>5</th>\n",
              "      <td>3804</td>\n",
              "      <td>48756</td>\n",
              "      <td>ÃT: 36.319708,-82.363649</td>\n",
              "      <td>16-03-2020</td>\n",
              "      <td>As news of the regionÂs first confirmed COVID...</td>\n",
              "      <td>Positive</td>\n",
              "    </tr>\n",
              "    <tr>\n",
              "      <th>6</th>\n",
              "      <td>3805</td>\n",
              "      <td>48757</td>\n",
              "      <td>35.926541,-78.753267</td>\n",
              "      <td>16-03-2020</td>\n",
              "      <td>Cashier at grocery store was sharing his insig...</td>\n",
              "      <td>Positive</td>\n",
              "    </tr>\n",
              "  </tbody>\n",
              "</table>\n",
              "</div>"
            ],
            "text/plain": [
              "   UserName  ScreenName                   Location     TweetAt  \\\n",
              "0      3799       48751                     London  16-03-2020   \n",
              "1      3800       48752                         UK  16-03-2020   \n",
              "2      3801       48753                  Vagabonds  16-03-2020   \n",
              "5      3804       48756  ÃT: 36.319708,-82.363649  16-03-2020   \n",
              "6      3805       48757       35.926541,-78.753267  16-03-2020   \n",
              "\n",
              "                                       OriginalTweet Sentiment  \n",
              "0  @MeNyrbie @Phil_Gahan @Chrisitv https://t.co/i...   Neutral  \n",
              "1  advice Talk to your neighbours family to excha...  Positive  \n",
              "2  Coronavirus Australia: Woolworths to give elde...  Positive  \n",
              "5  As news of the regionÂs first confirmed COVID...  Positive  \n",
              "6  Cashier at grocery store was sharing his insig...  Positive  "
            ]
          },
          "execution_count": 24,
          "metadata": {},
          "output_type": "execute_result"
        }
      ],
      "source": [
        "df.dropna(subset=['Location'], how='all', inplace=True)\n",
        "df.head()"
      ]
    },
    {
      "cell_type": "markdown",
      "id": "35a01900",
      "metadata": {
        "id": "35a01900"
      },
      "source": [
        "##### We have REMOVED all 'NaN' rows from the 'Location' column.\n",
        "##### Though we haveThe 'Location' column is not useful for our sentiment analysis.</b>"
      ]
    },
    {
      "cell_type": "markdown",
      "id": "3da7d128",
      "metadata": {
        "id": "3da7d128"
      },
      "source": [
        "### Top 10 Locations of Tweets generated"
      ]
    },
    {
      "cell_type": "code",
      "execution_count": null,
      "id": "1f6a9243",
      "metadata": {
        "id": "1f6a9243"
      },
      "outputs": [],
      "source": [
        "top10_locations_of_tweet = df['Location'].value_counts().head(10)\n",
        "sns.set(rc = {\"figure.figsize\" : (12,8)}) # width - 12   height - 8\n",
        "sns.set_style('white')"
      ]
    },
    {
      "cell_type": "code",
      "execution_count": null,
      "id": "deabca2e",
      "metadata": {
        "id": "deabca2e",
        "outputId": "549b05d6-eb99-4967-df03-f8f46cb57fe3"
      },
      "outputs": [
        {
          "data": {
            "text/plain": [
              "London             540\n",
              "United States      528\n",
              "London, England    520\n",
              "New York, NY       395\n",
              "Washington, DC     373\n",
              "United Kingdom     337\n",
              "Los Angeles, CA    281\n",
              "India              268\n",
              "UK                 232\n",
              "Australia          225\n",
              "Name: Location, dtype: int64"
            ]
          },
          "execution_count": 26,
          "metadata": {},
          "output_type": "execute_result"
        }
      ],
      "source": [
        "top10_locations_of_tweet.head(10)"
      ]
    },
    {
      "cell_type": "code",
      "execution_count": null,
      "id": "6977c2d5",
      "metadata": {
        "id": "6977c2d5"
      },
      "outputs": [],
      "source": [
        "# Creating a DataFrame for \"The top 10 Locations of Tweets generated\""
      ]
    },
    {
      "cell_type": "code",
      "execution_count": null,
      "id": "4e1cd044",
      "metadata": {
        "id": "4e1cd044",
        "outputId": "e62287da-fa2c-4024-e56e-115f67631718"
      },
      "outputs": [
        {
          "data": {
            "text/html": [
              "<div>\n",
              "<style scoped>\n",
              "    .dataframe tbody tr th:only-of-type {\n",
              "        vertical-align: middle;\n",
              "    }\n",
              "\n",
              "    .dataframe tbody tr th {\n",
              "        vertical-align: top;\n",
              "    }\n",
              "\n",
              "    .dataframe thead th {\n",
              "        text-align: right;\n",
              "    }\n",
              "</style>\n",
              "<table border=\"1\" class=\"dataframe\">\n",
              "  <thead>\n",
              "    <tr style=\"text-align: right;\">\n",
              "      <th></th>\n",
              "      <th>Location</th>\n",
              "      <th>Tweet_count</th>\n",
              "    </tr>\n",
              "  </thead>\n",
              "  <tbody>\n",
              "    <tr>\n",
              "      <th>0</th>\n",
              "      <td>London</td>\n",
              "      <td>540</td>\n",
              "    </tr>\n",
              "    <tr>\n",
              "      <th>1</th>\n",
              "      <td>United States</td>\n",
              "      <td>528</td>\n",
              "    </tr>\n",
              "    <tr>\n",
              "      <th>2</th>\n",
              "      <td>London, England</td>\n",
              "      <td>520</td>\n",
              "    </tr>\n",
              "    <tr>\n",
              "      <th>3</th>\n",
              "      <td>New York, NY</td>\n",
              "      <td>395</td>\n",
              "    </tr>\n",
              "    <tr>\n",
              "      <th>4</th>\n",
              "      <td>Washington, DC</td>\n",
              "      <td>373</td>\n",
              "    </tr>\n",
              "    <tr>\n",
              "      <th>5</th>\n",
              "      <td>United Kingdom</td>\n",
              "      <td>337</td>\n",
              "    </tr>\n",
              "    <tr>\n",
              "      <th>6</th>\n",
              "      <td>Los Angeles, CA</td>\n",
              "      <td>281</td>\n",
              "    </tr>\n",
              "    <tr>\n",
              "      <th>7</th>\n",
              "      <td>India</td>\n",
              "      <td>268</td>\n",
              "    </tr>\n",
              "    <tr>\n",
              "      <th>8</th>\n",
              "      <td>UK</td>\n",
              "      <td>232</td>\n",
              "    </tr>\n",
              "    <tr>\n",
              "      <th>9</th>\n",
              "      <td>Australia</td>\n",
              "      <td>225</td>\n",
              "    </tr>\n",
              "  </tbody>\n",
              "</table>\n",
              "</div>"
            ],
            "text/plain": [
              "          Location  Tweet_count\n",
              "0           London          540\n",
              "1    United States          528\n",
              "2  London, England          520\n",
              "3     New York, NY          395\n",
              "4   Washington, DC          373\n",
              "5   United Kingdom          337\n",
              "6  Los Angeles, CA          281\n",
              "7            India          268\n",
              "8               UK          232\n",
              "9        Australia          225"
            ]
          },
          "execution_count": 28,
          "metadata": {},
          "output_type": "execute_result"
        }
      ],
      "source": [
        "top10_locations_of_tweet_df = pd.DataFrame(top10_locations_of_tweet)\n",
        "top10_locations_of_tweet_df.reset_index(inplace = True)\n",
        "top10_locations_of_tweet_df.rename(columns = {'index':'Location','Location':'Tweet_count'},inplace = True)\n",
        "top10_locations_of_tweet_df"
      ]
    },
    {
      "cell_type": "code",
      "execution_count": null,
      "id": "c52ef906",
      "metadata": {
        "id": "c52ef906"
      },
      "outputs": [],
      "source": [
        "# Creating a BarPlot for \" The top 10 Locations of Tweets generated\""
      ]
    },
    {
      "cell_type": "code",
      "execution_count": null,
      "id": "f3aafb39",
      "metadata": {
        "id": "f3aafb39",
        "outputId": "37bc074e-95f2-4842-a1bf-e6b9f85fb883"
      },
      "outputs": [
        {
          "data": {
            "text/plain": [
              "[Text(0, 0, 'London'),\n",
              " Text(1, 0, 'United States'),\n",
              " Text(2, 0, 'London, England'),\n",
              " Text(3, 0, 'New York, NY'),\n",
              " Text(4, 0, 'Washington, DC'),\n",
              " Text(5, 0, 'United Kingdom'),\n",
              " Text(6, 0, 'Los Angeles, CA'),\n",
              " Text(7, 0, 'India'),\n",
              " Text(8, 0, 'UK'),\n",
              " Text(9, 0, 'Australia')]"
            ]
          },
          "execution_count": 30,
          "metadata": {},
          "output_type": "execute_result"
        },
        {
          "data": {
            "image/png": "[encoded data removed]",
            "text/plain": [
              "<Figure size 864x576 with 1 Axes>"
            ]
          },
          "metadata": {},
          "output_type": "display_data"
        }
      ],
      "source": [
        "barplt = sns.barplot(x = 'Location',y = 'Tweet_count',data = top10_locations_of_tweet_df,\n",
        "                      palette = 'flare')\n",
        "barplt.set_title(\"Top 10 locations of Tweets generated\")\n",
        "barplt.set_ylabel(\"Tweet_count\")\n",
        "barplt.set_xlabel(\"Location Names\")\n",
        "barplt.set_xticklabels(barplt.get_xticklabels(),rotation = 45)"
      ]
    },
    {
      "cell_type": "markdown",
      "id": "5e41a50d",
      "metadata": {
        "id": "5e41a50d"
      },
      "source": [
        "### Generating  a SENTIMENT COUNTPLOT for better visualization"
      ]
    },
    {
      "cell_type": "code",
      "execution_count": null,
      "id": "7ed7ff93",
      "metadata": {
        "id": "7ed7ff93",
        "outputId": "c8396162-8ec2-4c92-e7e6-d713893b5e00"
      },
      "outputs": [
        {
          "name": "stderr",
          "output_type": "stream",
          "text": [
            "C:\\Users\\fozan\\anaconda3\\lib\\site-packages\\seaborn\\_decorators.py:36: FutureWarning: Pass the following variable as a keyword arg: x. From version 0.12, the only valid positional argument will be `data`, and passing other arguments without an explicit keyword will result in an error or misinterpretation.\n",
            "  warnings.warn(\n"
          ]
        },
        {
          "data": {
            "image/png": "[encoded data removed]",
            "text/plain": [
              "<Figure size 576x576 with 1 Axes>"
            ]
          },
          "metadata": {},
          "output_type": "display_data"
        }
      ],
      "source": [
        "sns.catplot(\"Sentiment\", data=df, kind=\"count\", height=8)\n",
        "sns.set(font_scale = 1.1)"
      ]
    },
    {
      "cell_type": "code",
      "execution_count": null,
      "id": "c891b0a5",
      "metadata": {
        "id": "c891b0a5",
        "outputId": "385085db-9e52-4ef6-cc26-9588098bd714"
      },
      "outputs": [
        {
          "data": {
            "text/plain": [
              "20-03-2020    2618\n",
              "19-03-2020    2614\n",
              "25-03-2020    2384\n",
              "18-03-2020    2183\n",
              "21-03-2020    2066\n",
              "22-03-2020    1618\n",
              "23-03-2020    1604\n",
              "17-03-2020    1555\n",
              "08-04-2020    1527\n",
              "07-04-2020    1487\n",
              "06-04-2020    1372\n",
              "09-04-2020    1185\n",
              "24-03-2020    1167\n",
              "13-04-2020    1148\n",
              "26-03-2020    1025\n",
              "05-04-2020     880\n",
              "10-04-2020     815\n",
              "02-04-2020     779\n",
              "11-04-2020     722\n",
              "03-04-2020     656\n",
              "04-04-2020     615\n",
              "12-04-2020     593\n",
              "16-03-2020     529\n",
              "01-04-2020     503\n",
              "27-03-2020     280\n",
              "31-03-2020     253\n",
              "14-04-2020     210\n",
              "29-03-2020      95\n",
              "30-03-2020      65\n",
              "28-03-2020      19\n",
              "Name: TweetAt, dtype: int64"
            ]
          },
          "execution_count": 32,
          "metadata": {},
          "output_type": "execute_result"
        }
      ],
      "source": [
        "df.TweetAt.value_counts()"
      ]
    },
    {
      "cell_type": "markdown",
      "id": "0d1161c7",
      "metadata": {
        "id": "0d1161c7"
      },
      "source": [
        "## DATA PREPROCESSING"
      ]
    },
    {
      "cell_type": "code",
      "execution_count": null,
      "id": "9fa6f8bf",
      "metadata": {
        "id": "9fa6f8bf"
      },
      "outputs": [],
      "source": [
        "import nltk"
      ]
    },
    {
      "cell_type": "markdown",
      "id": "3d87fd06",
      "metadata": {
        "id": "3d87fd06"
      },
      "source": [
        "#### a) Tokenizing words\n",
        "#### b) Convert words to lower case\n",
        "#### c) Removing Punctuations\n",
        "#### d) Removing Stop words\n",
        "#### e) Stemming or lemmatizing the words"
      ]
    },
    {
      "cell_type": "code",
      "execution_count": null,
      "id": "dbd19d14",
      "metadata": {
        "id": "dbd19d14"
      },
      "outputs": [],
      "source": [
        "from nltk import word_tokenize\n",
        "from nltk.corpus import stopwords\n",
        "from nltk.stem import WordNetLemmatizer\n",
        "import re"
      ]
    },
    {
      "cell_type": "code",
      "execution_count": null,
      "id": "971b5266",
      "metadata": {
        "id": "971b5266",
        "outputId": "a9a11055-32c1-497d-e853-b1406d8c726a"
      },
      "outputs": [
        {
          "name": "stdout",
          "output_type": "stream",
          "text": [
            "['i', 'me', 'my', 'myself', 'we', 'our', 'ours', 'ourselves', 'you', \"you're\", \"you've\", \"you'll\", \"you'd\", 'your', 'yours', 'yourself', 'yourselves', 'he', 'him', 'his', 'himself', 'she', \"she's\", 'her', 'hers', 'herself', 'it', \"it's\", 'its', 'itself', 'they', 'them', 'their', 'theirs', 'themselves', 'what', 'which', 'who', 'whom', 'this', 'that', \"that'll\", 'these', 'those', 'am', 'is', 'are', 'was', 'were', 'be', 'been', 'being', 'have', 'has', 'had', 'having', 'do', 'does', 'did', 'doing', 'a', 'an', 'the', 'and', 'but', 'if', 'or', 'because', 'as', 'until', 'while', 'of', 'at', 'by', 'for', 'with', 'about', 'against', 'between', 'into', 'through', 'during', 'before', 'after', 'above', 'below', 'to', 'from', 'up', 'down', 'in', 'out', 'on', 'off', 'over', 'under', 'again', 'further', 'then', 'once', 'here', 'there', 'when', 'where', 'why', 'how', 'all', 'any', 'both', 'each', 'few', 'more', 'most', 'other', 'some', 'such', 'no', 'nor', 'not', 'only', 'own', 'same', 'so', 'than', 'too', 'very', 's', 't', 'can', 'will', 'just', 'don', \"don't\", 'should', \"should've\", 'now', 'd', 'll', 'm', 'o', 're', 've', 'y', 'ain', 'aren', \"aren't\", 'couldn', \"couldn't\", 'didn', \"didn't\", 'doesn', \"doesn't\", 'hadn', \"hadn't\", 'hasn', \"hasn't\", 'haven', \"haven't\", 'isn', \"isn't\", 'ma', 'mightn', \"mightn't\", 'mustn', \"mustn't\", 'needn', \"needn't\", 'shan', \"shan't\", 'shouldn', \"shouldn't\", 'wasn', \"wasn't\", 'weren', \"weren't\", 'won', \"won't\", 'wouldn', \"wouldn't\"]\n"
          ]
        }
      ],
      "source": [
        "sw = stopwords.words('English')\n",
        "print(sw)\n",
        "lm = WordNetLemmatizer()"
      ]
    },
    {
      "cell_type": "code",
      "execution_count": null,
      "id": "d15d591a",
      "metadata": {
        "id": "d15d591a"
      },
      "outputs": [],
      "source": [
        "tweet = []\n",
        "for i in df['OriginalTweet']:\n",
        "    t = re.sub('[^A-Za-z0-9]',' ',i)   # Removing punctuations\n",
        "    t = t.lower()                      # Conversion to Lowercase\n",
        "    t = word_tokenize(t)               # Tokenizing words\n",
        "    t = [i for i in t if i not in sw]  # Removing Stop words\n",
        "    t = [lm.lemmatize(i) for i in t]   # Lemmatization\n",
        "    t = \" \".join(t)\n",
        "    tweet.append(t)"
      ]
    },
    {
      "cell_type": "code",
      "execution_count": null,
      "id": "f8d9ee53",
      "metadata": {
        "id": "f8d9ee53",
        "outputId": "7a0794db-9d34-46b6-d390-dc1add734627"
      },
      "outputs": [
        {
          "name": "stdout",
          "output_type": "stream",
          "text": [
            "['menyrbie phil gahan chrisitv http co ifz9fan2pa http co xx6ghgfzcc http co i2nlzdxno8', 'advice talk neighbour family exchange phone number create contact list phone number neighbour school employer chemist gp set online shopping account po adequate supply regular med order', 'coronavirus australia woolworth give elderly disabled dedicated shopping hour amid covid 19 outbreak http co binca9vp8p', 'news region first confirmed covid 19 case came sullivan county last week people flocked area store purchase cleaning supply hand sanitizer food toilet paper good tim dodson report http co cfxch7a2lu', 'cashier grocery store sharing insight covid 19 prove credibility commented civics class know talking http co iefdnehgdo', 'supermarket today buy toilet paper rebel toiletpapercrisis covid 19 http co evxkqlidaz', 'due covid 19 retail store classroom atlanta open walk business class next two week beginning monday march 16 continue process online phone order normal thank understanding http co kw91zj5o5i', 'corona prevention stop buy thing cash use online payment method corona spread note also prefer online shopping home time fight covid 19 govindia indiafightscorona', 'month crowding supermarket restaurant however reducing hour closing mall mean everyone using entrance dependent single supermarket manila lockdown covid2019 philippine http co hxws9lanf9', 'due covid 19 situation increased demand food product wait time may longer online order particularly beef share freezer pack thank patience time']\n"
          ]
        }
      ],
      "source": [
        "print(tweet[:10])"
      ]
    },
    {
      "cell_type": "markdown",
      "id": "b9c4777c",
      "metadata": {
        "id": "b9c4777c"
      },
      "source": [
        "### Binary Classification of the 5 unique Sentiments into Positive and Negative"
      ]
    },
    {
      "cell_type": "code",
      "execution_count": null,
      "id": "4399db73",
      "metadata": {
        "id": "4399db73"
      },
      "outputs": [],
      "source": [
        "df.Sentiment.replace('Positive',1,inplace=True)\n",
        "df.Sentiment.replace('Extremely Positive',1,inplace=True)\n",
        "df.Sentiment.replace('Neutral',1,inplace=True)\n",
        "df.Sentiment.replace('Negative',0,inplace=True)\n",
        "df.Sentiment.replace('Extremely Negative',0,inplace=True)"
      ]
    },
    {
      "cell_type": "code",
      "execution_count": null,
      "id": "da7930a6",
      "metadata": {
        "id": "da7930a6",
        "outputId": "c9bf9762-8a72-4804-a348-eff8b21ae6e9"
      },
      "outputs": [
        {
          "data": {
            "text/plain": [
              "1    20555\n",
              "0    12012\n",
              "Name: Sentiment, dtype: int64"
            ]
          },
          "execution_count": 39,
          "metadata": {},
          "output_type": "execute_result"
        }
      ],
      "source": [
        "df.Sentiment.value_counts()"
      ]
    },
    {
      "cell_type": "code",
      "execution_count": null,
      "id": "a598f4fa",
      "metadata": {
        "id": "a598f4fa",
        "outputId": "cb35b856-38c0-4e3d-ba92-8ab4bc045690"
      },
      "outputs": [
        {
          "data": {
            "text/html": [
              "<div>\n",
              "<style scoped>\n",
              "    .dataframe tbody tr th:only-of-type {\n",
              "        vertical-align: middle;\n",
              "    }\n",
              "\n",
              "    .dataframe tbody tr th {\n",
              "        vertical-align: top;\n",
              "    }\n",
              "\n",
              "    .dataframe thead th {\n",
              "        text-align: right;\n",
              "    }\n",
              "</style>\n",
              "<table border=\"1\" class=\"dataframe\">\n",
              "  <thead>\n",
              "    <tr style=\"text-align: right;\">\n",
              "      <th></th>\n",
              "      <th>UserName</th>\n",
              "      <th>ScreenName</th>\n",
              "      <th>Location</th>\n",
              "      <th>TweetAt</th>\n",
              "      <th>OriginalTweet</th>\n",
              "      <th>Sentiment</th>\n",
              "    </tr>\n",
              "  </thead>\n",
              "  <tbody>\n",
              "    <tr>\n",
              "      <th>0</th>\n",
              "      <td>3799</td>\n",
              "      <td>48751</td>\n",
              "      <td>London</td>\n",
              "      <td>16-03-2020</td>\n",
              "      <td>@MeNyrbie @Phil_Gahan @Chrisitv https://t.co/i...</td>\n",
              "      <td>1</td>\n",
              "    </tr>\n",
              "    <tr>\n",
              "      <th>1</th>\n",
              "      <td>3800</td>\n",
              "      <td>48752</td>\n",
              "      <td>UK</td>\n",
              "      <td>16-03-2020</td>\n",
              "      <td>advice Talk to your neighbours family to excha...</td>\n",
              "      <td>1</td>\n",
              "    </tr>\n",
              "    <tr>\n",
              "      <th>2</th>\n",
              "      <td>3801</td>\n",
              "      <td>48753</td>\n",
              "      <td>Vagabonds</td>\n",
              "      <td>16-03-2020</td>\n",
              "      <td>Coronavirus Australia: Woolworths to give elde...</td>\n",
              "      <td>1</td>\n",
              "    </tr>\n",
              "    <tr>\n",
              "      <th>5</th>\n",
              "      <td>3804</td>\n",
              "      <td>48756</td>\n",
              "      <td>ÃT: 36.319708,-82.363649</td>\n",
              "      <td>16-03-2020</td>\n",
              "      <td>As news of the regionÂs first confirmed COVID...</td>\n",
              "      <td>1</td>\n",
              "    </tr>\n",
              "    <tr>\n",
              "      <th>6</th>\n",
              "      <td>3805</td>\n",
              "      <td>48757</td>\n",
              "      <td>35.926541,-78.753267</td>\n",
              "      <td>16-03-2020</td>\n",
              "      <td>Cashier at grocery store was sharing his insig...</td>\n",
              "      <td>1</td>\n",
              "    </tr>\n",
              "  </tbody>\n",
              "</table>\n",
              "</div>"
            ],
            "text/plain": [
              "   UserName  ScreenName                   Location     TweetAt  \\\n",
              "0      3799       48751                     London  16-03-2020   \n",
              "1      3800       48752                         UK  16-03-2020   \n",
              "2      3801       48753                  Vagabonds  16-03-2020   \n",
              "5      3804       48756  ÃT: 36.319708,-82.363649  16-03-2020   \n",
              "6      3805       48757       35.926541,-78.753267  16-03-2020   \n",
              "\n",
              "                                       OriginalTweet  Sentiment  \n",
              "0  @MeNyrbie @Phil_Gahan @Chrisitv https://t.co/i...          1  \n",
              "1  advice Talk to your neighbours family to excha...          1  \n",
              "2  Coronavirus Australia: Woolworths to give elde...          1  \n",
              "5  As news of the regionÂs first confirmed COVID...          1  \n",
              "6  Cashier at grocery store was sharing his insig...          1  "
            ]
          },
          "execution_count": 40,
          "metadata": {},
          "output_type": "execute_result"
        }
      ],
      "source": [
        "df.head()"
      ]
    },
    {
      "cell_type": "code",
      "execution_count": null,
      "id": "eb28d8fc",
      "metadata": {
        "id": "eb28d8fc"
      },
      "outputs": [],
      "source": [
        "from sklearn.feature_extraction.text import CountVectorizer"
      ]
    },
    {
      "cell_type": "code",
      "execution_count": null,
      "id": "455432e6",
      "metadata": {
        "id": "455432e6",
        "outputId": "fa9d4bfd-5224-4995-f14e-fdfbdc055f02"
      },
      "outputs": [
        {
          "name": "stdout",
          "output_type": "stream",
          "text": [
            "1500\n",
            "(32567, 1500)\n"
          ]
        },
        {
          "name": "stderr",
          "output_type": "stream",
          "text": [
            "C:\\Users\\fozan\\anaconda3\\lib\\site-packages\\sklearn\\utils\\deprecation.py:87: FutureWarning: Function get_feature_names is deprecated; get_feature_names is deprecated in 1.0 and will be removed in 1.2. Please use get_feature_names_out instead.\n",
            "  warnings.warn(msg, category=FutureWarning)\n"
          ]
        }
      ],
      "source": [
        "cv = CountVectorizer(max_features = 1500)\n",
        "sm = cv.fit_transform(tweet).toarray()  # Sparse_matrix\n",
        "print(len(cv.get_feature_names()))\n",
        "print(sm.shape)"
      ]
    },
    {
      "cell_type": "code",
      "execution_count": null,
      "id": "fe4f2764",
      "metadata": {
        "id": "fe4f2764",
        "outputId": "d0eaecee-e760-4f36-a4f6-71392ff7bdba"
      },
      "outputs": [
        {
          "name": "stdout",
          "output_type": "stream",
          "text": [
            "1500\n",
            "1500\n",
            "1500\n",
            "1500\n"
          ]
        }
      ],
      "source": [
        "print(len(sm[0]))\n",
        "print(len(sm[2345]))\n",
        "print(len(sm[31500]))\n",
        "print(len(sm[9000]))"
      ]
    },
    {
      "cell_type": "markdown",
      "id": "b09ccbd0",
      "metadata": {
        "id": "b09ccbd0"
      },
      "source": [
        "## Splitting data into training and test data"
      ]
    },
    {
      "cell_type": "code",
      "execution_count": null,
      "id": "ba4d0deb",
      "metadata": {
        "id": "ba4d0deb",
        "outputId": "953368e4-c411-47bf-e471-089eba7a15bb"
      },
      "outputs": [
        {
          "name": "stdout",
          "output_type": "stream",
          "text": [
            "<class 'numpy.ndarray'>\n",
            "<class 'pandas.core.series.Series'>\n"
          ]
        }
      ],
      "source": [
        "x = sm         # Independent feature\n",
        "y = df['Sentiment'] # Target Variable\n",
        "print(type(x))\n",
        "print(type(y))"
      ]
    },
    {
      "cell_type": "code",
      "execution_count": null,
      "id": "931d7688",
      "metadata": {
        "id": "931d7688",
        "outputId": "f2163048-c6ad-4028-80e6-bfbbf2cbfc3e"
      },
      "outputs": [
        {
          "name": "stdout",
          "output_type": "stream",
          "text": [
            "[[0 0 0 ... 0 0 0]\n",
            " [0 0 0 ... 0 0 0]\n",
            " [0 0 0 ... 0 0 0]\n",
            " [0 0 0 ... 0 0 0]]\n"
          ]
        }
      ],
      "source": [
        "print(sm[:4])"
      ]
    },
    {
      "cell_type": "code",
      "execution_count": null,
      "id": "e158ad41",
      "metadata": {
        "id": "e158ad41",
        "outputId": "7ed3556e-a71f-4e80-fb77-f014c41641ae"
      },
      "outputs": [
        {
          "name": "stdout",
          "output_type": "stream",
          "text": [
            "(24425, 1500)\n",
            "(8142, 1500)\n",
            "(24425,)\n",
            "(8142,)\n"
          ]
        }
      ],
      "source": [
        "from sklearn.model_selection import train_test_split\n",
        "x_train,x_test,y_train,y_test = train_test_split(x,y,test_size = 0.25)\n",
        "print(x_train.shape)\n",
        "print(x_test.shape)\n",
        "print(y_train.shape)\n",
        "print(y_test.shape)"
      ]
    },
    {
      "cell_type": "markdown",
      "id": "4986c0f0",
      "metadata": {
        "id": "4986c0f0"
      },
      "source": [
        "### 1) Multinomial Naïve Bayes Classification"
      ]
    },
    {
      "cell_type": "code",
      "execution_count": null,
      "id": "5475da54",
      "metadata": {
        "id": "5475da54"
      },
      "outputs": [],
      "source": [
        "from sklearn.naive_bayes import MultinomialNB"
      ]
    },
    {
      "cell_type": "code",
      "execution_count": null,
      "id": "21a3adf5",
      "metadata": {
        "id": "21a3adf5",
        "outputId": "a8ce1348-4b29-4196-a2ae-0bb4c9113362"
      },
      "outputs": [
        {
          "data": {
            "text/plain": [
              "MultinomialNB()"
            ]
          },
          "execution_count": 48,
          "metadata": {},
          "output_type": "execute_result"
        }
      ],
      "source": [
        "m1 = MultinomialNB()\n",
        "m1.fit(x_train,y_train)"
      ]
    },
    {
      "cell_type": "code",
      "execution_count": null,
      "id": "7e7bf071",
      "metadata": {
        "id": "7e7bf071",
        "outputId": "91f8cdd7-ca34-437b-c5d6-b58867467bd3"
      },
      "outputs": [
        {
          "name": "stdout",
          "output_type": "stream",
          "text": [
            "[0 1 1 ... 0 1 1]\n"
          ]
        }
      ],
      "source": [
        "ypred_m1 = m1.predict(x_test)\n",
        "print(ypred_m1)"
      ]
    },
    {
      "cell_type": "code",
      "execution_count": null,
      "id": "997d47b1",
      "metadata": {
        "id": "997d47b1"
      },
      "outputs": [],
      "source": [
        "from sklearn.metrics import confusion_matrix,classification_report"
      ]
    },
    {
      "cell_type": "code",
      "execution_count": null,
      "id": "825bd955",
      "metadata": {
        "id": "825bd955",
        "outputId": "e3632c11-04f1-43cd-f06c-35ff72ab7a8a"
      },
      "outputs": [
        {
          "name": "stdout",
          "output_type": "stream",
          "text": [
            "[[1995  974]\n",
            " [ 838 4335]]\n",
            "              precision    recall  f1-score   support\n",
            "\n",
            "           0       0.70      0.67      0.69      2969\n",
            "           1       0.82      0.84      0.83      5173\n",
            "\n",
            "    accuracy                           0.78      8142\n",
            "   macro avg       0.76      0.75      0.76      8142\n",
            "weighted avg       0.78      0.78      0.78      8142\n",
            "\n"
          ]
        }
      ],
      "source": [
        "cm_m1 = confusion_matrix(y_test,ypred_m1)\n",
        "print(cm_m1)\n",
        "print(classification_report(y_test,ypred_m1))"
      ]
    },
    {
      "cell_type": "code",
      "execution_count": null,
      "id": "f76807e8",
      "metadata": {
        "id": "f76807e8",
        "outputId": "8b55e4ed-0942-471c-870e-0082baa56512"
      },
      "outputs": [
        {
          "name": "stdout",
          "output_type": "stream",
          "text": [
            "0.7774502579218865\n"
          ]
        }
      ],
      "source": [
        "from sklearn.metrics import accuracy_score\n",
        "NB_acc = accuracy_score(ypred_m1,y_test)\n",
        "print(NB_acc)"
      ]
    },
    {
      "cell_type": "markdown",
      "id": "88263bd2",
      "metadata": {
        "id": "88263bd2"
      },
      "source": [
        "#### Multinomial  Naïve Bayes Classifier generates an accuracy of 77.7%"
      ]
    },
    {
      "cell_type": "markdown",
      "id": "c9ca1b0c",
      "metadata": {
        "id": "c9ca1b0c"
      },
      "source": [
        "### 2) SVM Classification"
      ]
    },
    {
      "cell_type": "code",
      "execution_count": null,
      "id": "49951cb2",
      "metadata": {
        "id": "49951cb2"
      },
      "outputs": [],
      "source": [
        "from sklearn.svm import SVC"
      ]
    },
    {
      "cell_type": "code",
      "execution_count": null,
      "id": "9ef92f78",
      "metadata": {
        "id": "9ef92f78",
        "outputId": "4b0917ef-08a4-4234-a5b0-b94fd0ea6cd4"
      },
      "outputs": [
        {
          "data": {
            "text/plain": [
              "SVC(C=1, kernel='linear')"
            ]
          },
          "execution_count": 54,
          "metadata": {},
          "output_type": "execute_result"
        }
      ],
      "source": [
        "m2 = SVC(kernel = 'linear',C = 1)\n",
        "m2.fit(x_train,y_train)\n"
      ]
    },
    {
      "cell_type": "code",
      "execution_count": null,
      "id": "9cc95cab",
      "metadata": {
        "id": "9cc95cab",
        "outputId": "4dffb301-b734-4360-c9c3-90f6553bf0c5"
      },
      "outputs": [
        {
          "name": "stdout",
          "output_type": "stream",
          "text": [
            "[0 1 1 ... 1 1 1]\n"
          ]
        }
      ],
      "source": [
        "ypred_m2= m2.predict(x_test)\n",
        "print(ypred_m2)"
      ]
    },
    {
      "cell_type": "code",
      "execution_count": null,
      "id": "cb5fe753",
      "metadata": {
        "id": "cb5fe753",
        "outputId": "6bc66f67-0cf5-4a96-e6e1-179fe2e46eb6"
      },
      "outputs": [
        {
          "name": "stdout",
          "output_type": "stream",
          "text": [
            "[[2062  907]\n",
            " [ 474 4699]]\n",
            "              precision    recall  f1-score   support\n",
            "\n",
            "           0       0.81      0.69      0.75      2969\n",
            "           1       0.84      0.91      0.87      5173\n",
            "\n",
            "    accuracy                           0.83      8142\n",
            "   macro avg       0.83      0.80      0.81      8142\n",
            "weighted avg       0.83      0.83      0.83      8142\n",
            "\n"
          ]
        }
      ],
      "source": [
        "from sklearn.metrics import confusion_matrix,classification_report\n",
        "cm_m2 = confusion_matrix(y_test,ypred_m2)\n",
        "print(cm_m2)\n",
        "print(classification_report(y_test,ypred_m2))"
      ]
    },
    {
      "cell_type": "code",
      "execution_count": null,
      "id": "b1ace6fb",
      "metadata": {
        "id": "b1ace6fb",
        "outputId": "00ee6401-60d6-4865-debf-6707a95b0ea4"
      },
      "outputs": [
        {
          "name": "stdout",
          "output_type": "stream",
          "text": [
            "0.830385654630312\n"
          ]
        }
      ],
      "source": [
        "from sklearn.metrics import accuracy_score\n",
        "SVM_acc = accuracy_score(ypred_m2,y_test) # SVM - Linear\n",
        "print(SVM_acc)"
      ]
    },
    {
      "cell_type": "markdown",
      "id": "8c17be7c",
      "metadata": {
        "id": "8c17be7c"
      },
      "source": [
        "####  SVM classifier generates an accuracy of 83.0%"
      ]
    },
    {
      "cell_type": "markdown",
      "id": "35f9153e",
      "metadata": {
        "id": "35f9153e"
      },
      "source": [
        "### 3) KNN Classification"
      ]
    },
    {
      "cell_type": "code",
      "execution_count": null,
      "id": "9414fb4f",
      "metadata": {
        "id": "9414fb4f"
      },
      "outputs": [],
      "source": [
        "from sklearn.neighbors import KNeighborsClassifier"
      ]
    },
    {
      "cell_type": "code",
      "execution_count": null,
      "id": "a9340a76",
      "metadata": {
        "id": "a9340a76",
        "outputId": "79625545-e4e7-4885-87f4-8acc3ce6f3aa"
      },
      "outputs": [
        {
          "data": {
            "text/plain": [
              "KNeighborsClassifier(n_neighbors=19)"
            ]
          },
          "execution_count": 59,
          "metadata": {},
          "output_type": "execute_result"
        }
      ],
      "source": [
        "m3 = KNeighborsClassifier(n_neighbors = 19)\n",
        "m3.fit(x_train,y_train)"
      ]
    },
    {
      "cell_type": "code",
      "execution_count": null,
      "id": "7847d9ea",
      "metadata": {
        "id": "7847d9ea",
        "outputId": "fda8de56-23e4-4870-e407-baf8f253aeaa"
      },
      "outputs": [
        {
          "name": "stdout",
          "output_type": "stream",
          "text": [
            "[1 1 1 ... 1 1 1]\n"
          ]
        }
      ],
      "source": [
        "ypred_m3 = m3.predict(x_test)\n",
        "print(ypred_m3)"
      ]
    },
    {
      "cell_type": "code",
      "execution_count": null,
      "id": "c64f840c",
      "metadata": {
        "id": "c64f840c",
        "outputId": "436f0ac7-df7d-44c0-dd54-c3817c9622de"
      },
      "outputs": [
        {
          "name": "stdout",
          "output_type": "stream",
          "text": [
            "[[ 330 2639]\n",
            " [ 101 5072]]\n",
            "              precision    recall  f1-score   support\n",
            "\n",
            "           0       0.77      0.11      0.19      2969\n",
            "           1       0.66      0.98      0.79      5173\n",
            "\n",
            "    accuracy                           0.66      8142\n",
            "   macro avg       0.71      0.55      0.49      8142\n",
            "weighted avg       0.70      0.66      0.57      8142\n",
            "\n"
          ]
        }
      ],
      "source": [
        "from sklearn.metrics import confusion_matrix,classification_report\n",
        "cm_m3 = confusion_matrix(y_test,ypred_m3)\n",
        "print(cm_m3)\n",
        "print(classification_report(y_test,ypred_m3))"
      ]
    },
    {
      "cell_type": "code",
      "execution_count": null,
      "id": "7b582f4e",
      "metadata": {
        "id": "7b582f4e",
        "outputId": "3aa4ac10-6980-4478-f705-3b3e7dfbbda4"
      },
      "outputs": [
        {
          "name": "stdout",
          "output_type": "stream",
          "text": [
            "0.6634733480717269\n"
          ]
        }
      ],
      "source": [
        "from sklearn.metrics import accuracy_score\n",
        "KNN_acc = accuracy_score(ypred_m3,y_test)\n",
        "print(KNN_acc)"
      ]
    },
    {
      "cell_type": "markdown",
      "id": "14ff4839",
      "metadata": {
        "id": "14ff4839"
      },
      "source": [
        "#### KNN Classifier generates an accuracy of 66.3%"
      ]
    },
    {
      "cell_type": "markdown",
      "id": "68d88d35",
      "metadata": {
        "id": "68d88d35"
      },
      "source": [
        "## WINNER MODEL:     SVM CLASSIFIER !"
      ]
    },
    {
      "cell_type": "code",
      "execution_count": null,
      "id": "b158dea0",
      "metadata": {
        "id": "b158dea0",
        "outputId": "e91bfb3b-eb5d-4512-c402-0c8c28ab6453"
      },
      "outputs": [
        {
          "data": {
            "text/html": [
              "<div>\n",
              "<style scoped>\n",
              "    .dataframe tbody tr th:only-of-type {\n",
              "        vertical-align: middle;\n",
              "    }\n",
              "\n",
              "    .dataframe tbody tr th {\n",
              "        vertical-align: top;\n",
              "    }\n",
              "\n",
              "    .dataframe thead th {\n",
              "        text-align: right;\n",
              "    }\n",
              "</style>\n",
              "<table border=\"1\" class=\"dataframe\">\n",
              "  <thead>\n",
              "    <tr style=\"text-align: right;\">\n",
              "      <th></th>\n",
              "      <th>Model</th>\n",
              "      <th>Test accuracy</th>\n",
              "    </tr>\n",
              "  </thead>\n",
              "  <tbody>\n",
              "    <tr>\n",
              "      <th>1</th>\n",
              "      <td>SVM</td>\n",
              "      <td>0.830386</td>\n",
              "    </tr>\n",
              "    <tr>\n",
              "      <th>0</th>\n",
              "      <td>Naive Bayes</td>\n",
              "      <td>0.777450</td>\n",
              "    </tr>\n",
              "    <tr>\n",
              "      <th>2</th>\n",
              "      <td>KNN</td>\n",
              "      <td>0.663473</td>\n",
              "    </tr>\n",
              "  </tbody>\n",
              "</table>\n",
              "</div>"
            ],
            "text/plain": [
              "         Model  Test accuracy\n",
              "1          SVM       0.830386\n",
              "0  Naive Bayes       0.777450\n",
              "2          KNN       0.663473"
            ]
          },
          "execution_count": 63,
          "metadata": {},
          "output_type": "execute_result"
        }
      ],
      "source": [
        "models = pd.DataFrame({\n",
        "    'Model': ['Naive Bayes','SVM','KNN'],\n",
        "    'Test accuracy': [NB_acc,SVM_acc,KNN_acc]})\n",
        "\n",
        "models.sort_values(by='Test accuracy', ascending=False)"
      ]
    }
  ],
  "metadata": {
    "kernelspec": {
      "display_name": "Python 3 (ipykernel)",
      "language": "python",
      "name": "python3"
    },
    "language_info": {
      "codemirror_mode": {
        "name": "ipython",
        "version": 3
      },
      "file_extension": ".py",
      "mimetype": "text/x-python",
      "name": "python",
      "nbconvert_exporter": "python",
      "pygments_lexer": "ipython3",
      "version": "3.9.12"
    },
    "colab": {
      "provenance": [],
      "include_colab_link": true
    }
  },
  "nbformat": 4,
  "nbformat_minor": 5
}